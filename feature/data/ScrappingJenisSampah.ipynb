{
 "cells": [
  {
   "cell_type": "code",
   "execution_count": 5,
   "metadata": {},
   "outputs": [
    {
     "name": "stdout",
     "output_type": "stream",
     "text": [
      "              Jenis Sampah Produksi Sampah Persentase\n",
      "6   Sisa  makanan dan daun           77269     44,51%\n",
      "7        Kayu  dan ranting            6909      3,98%\n",
      "8                   Kertas           22776     13,12%\n",
      "9                  Plastik           32428     18,68%\n",
      "10                   Logam            1562      0,90%\n",
      "11                    Kain            8246      4,75%\n",
      "12        Karet  dan kulit            4132      2,38%\n",
      "13              Limbah  B3           13142      7,57%\n",
      "Stored 'data_jenis_sampah' (DataFrame)\n"
     ]
    }
   ],
   "source": [
    "import pandas as pd\n",
    "\n",
    "pd.set_option('display.max_colwidth', None)\n",
    "\n",
    "# scrapping\n",
    "url = 'https://bandungkota.bps.go.id/statictable/2021/03/23/1457/produksi-sampah-menurut-jenisnya-di-kota-bandung-2020.html'\n",
    "jenis_sampah = pd.read_html(url)\n",
    "\n",
    "# Mengambil data dari Tabel 6 yang ada dilink diatas\n",
    "data_produksi_sampah = jenis_sampah[5]\n",
    "\n",
    "# Mengambil data\n",
    "jenis_sampah = data_produksi_sampah.iloc[4:14, 0]\n",
    "produksi_sampah = data_produksi_sampah.iloc[6:15, 1]\n",
    "persentase = data_produksi_sampah.iloc[6:15, 2]\n",
    "\n",
    "# nyatuin kolom-kolom jadi satu DataFrame\n",
    "df = pd.concat([jenis_sampah, produksi_sampah, persentase], axis=1)\n",
    "df.columns = ['Jenis Sampah', 'Produksi Sampah', 'Persentase']\n",
    "\n",
    "# Menghilangkan baris yang mengandung nilai NaN\n",
    "data_jenis_sampah = df.dropna()\n",
    "\n",
    "# Menghilangkan Kata setelah '/'\n",
    "data_jenis_sampah.loc[:, 'Jenis Sampah'] = data_jenis_sampah['Jenis Sampah'].str.split('/').str[0].str.strip()\n",
    "\n",
    "# Menampilkan hasil\n",
    "print(data_jenis_sampah)\n",
    "\n",
    "%store data_jenis_sampah"
   ]
  }
 ],
 "metadata": {
  "kernelspec": {
   "display_name": "Python 3",
   "language": "python",
   "name": "python3"
  },
  "language_info": {
   "codemirror_mode": {
    "name": "ipython",
    "version": 3
   },
   "file_extension": ".py",
   "mimetype": "text/x-python",
   "name": "python",
   "nbconvert_exporter": "python",
   "pygments_lexer": "ipython3",
   "version": "3.12.0"
  }
 },
 "nbformat": 4,
 "nbformat_minor": 2
}
