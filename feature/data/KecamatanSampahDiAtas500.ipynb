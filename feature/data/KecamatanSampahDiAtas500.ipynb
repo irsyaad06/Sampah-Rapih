{
 "cells": [
  {
   "cell_type": "code",
   "execution_count": 1,
   "metadata": {},
   "outputs": [
    {
     "data": {
      "text/html": [
       "<div>\n",
       "<style scoped>\n",
       "    .dataframe tbody tr th:only-of-type {\n",
       "        vertical-align: middle;\n",
       "    }\n",
       "\n",
       "    .dataframe tbody tr th {\n",
       "        vertical-align: top;\n",
       "    }\n",
       "\n",
       "    .dataframe thead th {\n",
       "        text-align: right;\n",
       "    }\n",
       "</style>\n",
       "<table border=\"1\" class=\"dataframe\">\n",
       "  <thead>\n",
       "    <tr style=\"text-align: right;\">\n",
       "      <th></th>\n",
       "      <th>kecamatan</th>\n",
       "      <th>tahun</th>\n",
       "      <th>jumlah_sampah</th>\n",
       "      <th>peningkatan_sampah</th>\n",
       "    </tr>\n",
       "  </thead>\n",
       "  <tbody>\n",
       "    <tr>\n",
       "      <th>106</th>\n",
       "      <td>Cibeunying Kidul</td>\n",
       "      <td>2018</td>\n",
       "      <td>1257.0</td>\n",
       "      <td>589.7</td>\n",
       "    </tr>\n",
       "    <tr>\n",
       "      <th>42</th>\n",
       "      <td>Bandung Kidul</td>\n",
       "      <td>2018</td>\n",
       "      <td>1218.8</td>\n",
       "      <td>466.7</td>\n",
       "    </tr>\n",
       "    <tr>\n",
       "      <th>146</th>\n",
       "      <td>Coblong</td>\n",
       "      <td>2018</td>\n",
       "      <td>1244.7</td>\n",
       "      <td>457.0</td>\n",
       "    </tr>\n",
       "    <tr>\n",
       "      <th>210</th>\n",
       "      <td>Sukajadi</td>\n",
       "      <td>2018</td>\n",
       "      <td>1170.9</td>\n",
       "      <td>445.1</td>\n",
       "    </tr>\n",
       "    <tr>\n",
       "      <th>10</th>\n",
       "      <td>Antapani</td>\n",
       "      <td>2018</td>\n",
       "      <td>1203.5</td>\n",
       "      <td>441.1</td>\n",
       "    </tr>\n",
       "  </tbody>\n",
       "</table>\n",
       "</div>"
      ],
      "text/plain": [
       "            kecamatan  tahun  jumlah_sampah  peningkatan_sampah\n",
       "106  Cibeunying Kidul   2018         1257.0               589.7\n",
       "42      Bandung Kidul   2018         1218.8               466.7\n",
       "146           Coblong   2018         1244.7               457.0\n",
       "210          Sukajadi   2018         1170.9               445.1\n",
       "10           Antapani   2018         1203.5               441.1"
      ]
     },
     "metadata": {},
     "output_type": "display_data"
    },
    {
     "name": "stdout",
     "output_type": "stream",
     "text": [
      "Stored 'top_5_kecamatan_signifikan' (DataFrame)\n"
     ]
    }
   ],
   "source": [
    "import pandas as pd\n",
    "\n",
    "# Menyiapkan data\n",
    "\n",
    "%store -r data_sampah\n",
    "\n",
    "data_sampah['tanggal'] = pd.to_datetime(data_sampah['tanggal'])\n",
    "data_sampah['tahun'] = data_sampah['tanggal'].dt.year\n",
    "\n",
    "# Mengelompokkan data berdasarkan kecamatan dan tahun\n",
    "grouping = data_sampah.groupby(['kecamatan', 'tahun'])['jumlah_sampah'].sum().reset_index()\n",
    "\n",
    "# Menghitung peningkatan sampah per tahun\n",
    "grouping['peningkatan_sampah'] = grouping.groupby('kecamatan')['jumlah_sampah'].diff()\n",
    "\n",
    "# Menentukan 5 kecamatan dengan peningkatan paling signifikan pertahunnya\n",
    "kecamatan_tertinggi = grouping.loc[grouping.groupby('kecamatan')['peningkatan_sampah'].idxmax()]\n",
    "\n",
    "# Memilih hanya 5 kecamatan tertinggi\n",
    "top_5_kecamatan_signifikan = kecamatan_tertinggi.nlargest(5, 'peningkatan_sampah')\n",
    "\n",
    "display(top_5_kecamatan_signifikan)\n",
    "\n",
    "%store top_5_kecamatan_signifikan \n"
   ]
  }
 ],
 "metadata": {
  "kernelspec": {
   "display_name": "Python 3",
   "language": "python",
   "name": "python3"
  },
  "language_info": {
   "codemirror_mode": {
    "name": "ipython",
    "version": 3
   },
   "file_extension": ".py",
   "mimetype": "text/x-python",
   "name": "python",
   "nbconvert_exporter": "python",
   "pygments_lexer": "ipython3",
   "version": "3.12.0"
  }
 },
 "nbformat": 4,
 "nbformat_minor": 2
}
