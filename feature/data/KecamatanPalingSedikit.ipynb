{
 "cells": [
  {
   "cell_type": "code",
   "execution_count": 1,
   "metadata": {},
   "outputs": [
    {
     "data": {
      "text/html": [
       "<div>\n",
       "<style scoped>\n",
       "    .dataframe tbody tr th:only-of-type {\n",
       "        vertical-align: middle;\n",
       "    }\n",
       "\n",
       "    .dataframe tbody tr th {\n",
       "        vertical-align: top;\n",
       "    }\n",
       "\n",
       "    .dataframe thead th {\n",
       "        text-align: right;\n",
       "    }\n",
       "</style>\n",
       "<table border=\"1\" class=\"dataframe\">\n",
       "  <thead>\n",
       "    <tr style=\"text-align: right;\">\n",
       "      <th></th>\n",
       "      <th>jumlah_sampah</th>\n",
       "    </tr>\n",
       "    <tr>\n",
       "      <th>kecamatan</th>\n",
       "      <th></th>\n",
       "    </tr>\n",
       "  </thead>\n",
       "  <tbody>\n",
       "    <tr>\n",
       "      <th>Cibeunying Kidul</th>\n",
       "      <td>9928.4</td>\n",
       "    </tr>\n",
       "    <tr>\n",
       "      <th>Regol</th>\n",
       "      <td>9983.0</td>\n",
       "    </tr>\n",
       "    <tr>\n",
       "      <th>Buahbatu</th>\n",
       "      <td>10047.4</td>\n",
       "    </tr>\n",
       "    <tr>\n",
       "      <th>Bojongloa Kaler</th>\n",
       "      <td>10052.8</td>\n",
       "    </tr>\n",
       "    <tr>\n",
       "      <th>Kiaracondong</th>\n",
       "      <td>10098.7</td>\n",
       "    </tr>\n",
       "  </tbody>\n",
       "</table>\n",
       "</div>"
      ],
      "text/plain": [
       "                  jumlah_sampah\n",
       "kecamatan                      \n",
       "Cibeunying Kidul         9928.4\n",
       "Regol                    9983.0\n",
       "Buahbatu                10047.4\n",
       "Bojongloa Kaler         10052.8\n",
       "Kiaracondong            10098.7"
      ]
     },
     "metadata": {},
     "output_type": "display_data"
    },
    {
     "name": "stdout",
     "output_type": "stream",
     "text": [
      "Stored 'top_5_data_sedikit' (DataFrame)\n"
     ]
    }
   ],
   "source": [
    "# Jumlah Sampah Kecamatan 5 Tersedikit\n",
    "\n",
    "import pandas as pd\n",
    "import matplotlib.pyplot as plt\n",
    "\n",
    "%store -r data_sampah\n",
    "\n",
    "# Mengelompokkan dan menghitung jumlah sampah per kecamatan\n",
    "data_sampah_grouped = data_sampah.groupby('kecamatan')['jumlah_sampah'].sum()\n",
    "\n",
    "# Membuat DataFrame baru dengan kolom 'kecamatan' dan 'jumlah_sampah'\n",
    "top_5_data_sedikit = pd.DataFrame(data_sampah_grouped).sort_values(by='jumlah_sampah', ascending=True).head(5)\n",
    "\n",
    "# Menampilkan DataFrame\n",
    "display(top_5_data_sedikit)\n",
    "\n",
    "%store top_5_data_sedikit\n"
   ]
  }
 ],
 "metadata": {
  "kernelspec": {
   "display_name": "Python 3",
   "language": "python",
   "name": "python3"
  },
  "language_info": {
   "codemirror_mode": {
    "name": "ipython",
    "version": 3
   },
   "file_extension": ".py",
   "mimetype": "text/x-python",
   "name": "python",
   "nbconvert_exporter": "python",
   "pygments_lexer": "ipython3",
   "version": "3.12.0"
  }
 },
 "nbformat": 4,
 "nbformat_minor": 2
}
