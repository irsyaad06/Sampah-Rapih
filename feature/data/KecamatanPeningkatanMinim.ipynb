{
 "cells": [
  {
   "cell_type": "code",
   "execution_count": 4,
   "metadata": {},
   "outputs": [
    {
     "data": {
      "text/html": [
       "<div>\n",
       "<style scoped>\n",
       "    .dataframe tbody tr th:only-of-type {\n",
       "        vertical-align: middle;\n",
       "    }\n",
       "\n",
       "    .dataframe tbody tr th {\n",
       "        vertical-align: top;\n",
       "    }\n",
       "\n",
       "    .dataframe thead th {\n",
       "        text-align: right;\n",
       "    }\n",
       "</style>\n",
       "<table border=\"1\" class=\"dataframe\">\n",
       "  <thead>\n",
       "    <tr style=\"text-align: right;\">\n",
       "      <th></th>\n",
       "      <th>kecamatan</th>\n",
       "      <th>tahun</th>\n",
       "      <th>jumlah_sampah</th>\n",
       "      <th>peningkatan_sampah</th>\n",
       "    </tr>\n",
       "  </thead>\n",
       "  <tbody>\n",
       "    <tr>\n",
       "      <th>199</th>\n",
       "      <td>Rancasari</td>\n",
       "      <td>2023</td>\n",
       "      <td>1455.2</td>\n",
       "      <td>-331.0</td>\n",
       "    </tr>\n",
       "    <tr>\n",
       "      <th>103</th>\n",
       "      <td>Cibeunying Kaler</td>\n",
       "      <td>2023</td>\n",
       "      <td>1443.1</td>\n",
       "      <td>-282.9</td>\n",
       "    </tr>\n",
       "    <tr>\n",
       "      <th>223</th>\n",
       "      <td>Sukasari</td>\n",
       "      <td>2023</td>\n",
       "      <td>1507.1</td>\n",
       "      <td>-261.7</td>\n",
       "    </tr>\n",
       "    <tr>\n",
       "      <th>63</th>\n",
       "      <td>Bandung Wetan</td>\n",
       "      <td>2023</td>\n",
       "      <td>1582.1</td>\n",
       "      <td>-253.2</td>\n",
       "    </tr>\n",
       "    <tr>\n",
       "      <th>135</th>\n",
       "      <td>Cidadap</td>\n",
       "      <td>2023</td>\n",
       "      <td>1466.5</td>\n",
       "      <td>-241.3</td>\n",
       "    </tr>\n",
       "  </tbody>\n",
       "</table>\n",
       "</div>"
      ],
      "text/plain": [
       "            kecamatan  tahun  jumlah_sampah  peningkatan_sampah\n",
       "199         Rancasari   2023         1455.2              -331.0\n",
       "103  Cibeunying Kaler   2023         1443.1              -282.9\n",
       "223          Sukasari   2023         1507.1              -261.7\n",
       "63      Bandung Wetan   2023         1582.1              -253.2\n",
       "135           Cidadap   2023         1466.5              -241.3"
      ]
     },
     "metadata": {},
     "output_type": "display_data"
    },
    {
     "name": "stdout",
     "output_type": "stream",
     "text": [
      "Stored 'min_penigkatan_sorted' (DataFrame)\n"
     ]
    }
   ],
   "source": [
    "import pandas as pd\n",
    "\n",
    "%store -r data_sampah \n",
    "\n",
    "data_sampah['tanggal'] = pd.to_datetime(data_sampah['tanggal'])\n",
    "\n",
    "data_sampah['tahun'] = data_sampah['tanggal'].dt.year\n",
    "\n",
    "grouping = data_sampah.groupby(['kecamatan', 'tahun'])['jumlah_sampah'].sum().reset_index()\n",
    "\n",
    "grouping['peningkatan_sampah'] = grouping.groupby('kecamatan')['jumlah_sampah'].diff()\n",
    "\n",
    "min_peningkatan = grouping.loc[grouping.groupby('kecamatan')['peningkatan_sampah'].idxmin()]\n",
    "\n",
    "min_penigkatan_sorted = min_peningkatan.sort_values(by='peningkatan_sampah').head(5)\n",
    "\n",
    "# Tampilkan hanya 5 data pertama\n",
    "display(min_penigkatan_sorted)\n",
    "\n",
    "%store min_penigkatan_sorted\n"
   ]
  }
 ],
 "metadata": {
  "kernelspec": {
   "display_name": "Python 3",
   "language": "python",
   "name": "python3"
  },
  "language_info": {
   "codemirror_mode": {
    "name": "ipython",
    "version": 3
   },
   "file_extension": ".py",
   "mimetype": "text/x-python",
   "name": "python",
   "nbconvert_exporter": "python",
   "pygments_lexer": "ipython3",
   "version": "3.12.0"
  }
 },
 "nbformat": 4,
 "nbformat_minor": 2
}
