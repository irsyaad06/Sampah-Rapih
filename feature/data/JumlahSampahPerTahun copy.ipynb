{
 "cells": [
  {
   "cell_type": "code",
   "execution_count": 1,
   "metadata": {},
   "outputs": [
    {
     "data": {
      "text/html": [
       "<div>\n",
       "<style scoped>\n",
       "    .dataframe tbody tr th:only-of-type {\n",
       "        vertical-align: middle;\n",
       "    }\n",
       "\n",
       "    .dataframe tbody tr th {\n",
       "        vertical-align: top;\n",
       "    }\n",
       "\n",
       "    .dataframe thead th {\n",
       "        text-align: right;\n",
       "    }\n",
       "</style>\n",
       "<table border=\"1\" class=\"dataframe\">\n",
       "  <thead>\n",
       "    <tr style=\"text-align: right;\">\n",
       "      <th></th>\n",
       "      <th>tahun</th>\n",
       "      <th>jumlah_sampah_ton</th>\n",
       "    </tr>\n",
       "  </thead>\n",
       "  <tbody>\n",
       "    <tr>\n",
       "      <th>0</th>\n",
       "      <td>2016</td>\n",
       "      <td>17.7423</td>\n",
       "    </tr>\n",
       "    <tr>\n",
       "      <th>1</th>\n",
       "      <td>2017</td>\n",
       "      <td>24.4188</td>\n",
       "    </tr>\n",
       "    <tr>\n",
       "      <th>2</th>\n",
       "      <td>2018</td>\n",
       "      <td>35.4019</td>\n",
       "    </tr>\n",
       "    <tr>\n",
       "      <th>3</th>\n",
       "      <td>2019</td>\n",
       "      <td>39.9671</td>\n",
       "    </tr>\n",
       "    <tr>\n",
       "      <th>4</th>\n",
       "      <td>2020</td>\n",
       "      <td>45.2852</td>\n",
       "    </tr>\n",
       "    <tr>\n",
       "      <th>5</th>\n",
       "      <td>2021</td>\n",
       "      <td>48.2529</td>\n",
       "    </tr>\n",
       "    <tr>\n",
       "      <th>6</th>\n",
       "      <td>2022</td>\n",
       "      <td>50.3972</td>\n",
       "    </tr>\n",
       "    <tr>\n",
       "      <th>7</th>\n",
       "      <td>2023</td>\n",
       "      <td>47.5492</td>\n",
       "    </tr>\n",
       "  </tbody>\n",
       "</table>\n",
       "</div>"
      ],
      "text/plain": [
       "   tahun  jumlah_sampah_ton\n",
       "0   2016            17.7423\n",
       "1   2017            24.4188\n",
       "2   2018            35.4019\n",
       "3   2019            39.9671\n",
       "4   2020            45.2852\n",
       "5   2021            48.2529\n",
       "6   2022            50.3972\n",
       "7   2023            47.5492"
      ]
     },
     "metadata": {},
     "output_type": "display_data"
    },
    {
     "name": "stdout",
     "output_type": "stream",
     "text": [
      "Stored 'total_sampah_per_tahun' (DataFrame)\n"
     ]
    }
   ],
   "source": [
    "# Jumlah Sampah per Tahun \n",
    "\n",
    "import pandas as pd\n",
    "import matplotlib.pyplot as plt\n",
    "\n",
    "%store -r data_sampah\n",
    "\n",
    "# Ubah kolom 'tanggal' menjadi tipe data waktu\n",
    "data_sampah['tanggal'] = pd.to_datetime(data_sampah['tanggal'])\n",
    "\n",
    "# Tambahkan kolom 'tahun' dengan menggunakan .dt.year\n",
    "data_sampah['tahun'] = data_sampah['tanggal'].dt.year\n",
    "\n",
    "# Konversi jumlah_sampah ke ton (asumsi awal dalam kilogram)\n",
    "data_sampah['jumlah_sampah_ton'] = data_sampah['jumlah_sampah'] / 1000\n",
    "\n",
    "# Agregasi jumlah sampah per tahun\n",
    "total_sampah_per_tahun = data_sampah.groupby('tahun')['jumlah_sampah_ton'].sum().reset_index()\n",
    "\n",
    "display(total_sampah_per_tahun)\n",
    "\n",
    "%store total_sampah_per_tahun"
   ]
  }
 ],
 "metadata": {
  "kernelspec": {
   "display_name": "Python 3",
   "language": "python",
   "name": "python3"
  },
  "language_info": {
   "codemirror_mode": {
    "name": "ipython",
    "version": 3
   },
   "file_extension": ".py",
   "mimetype": "text/x-python",
   "name": "python",
   "nbconvert_exporter": "python",
   "pygments_lexer": "ipython3",
   "version": "3.12.0"
  }
 },
 "nbformat": 4,
 "nbformat_minor": 2
}
