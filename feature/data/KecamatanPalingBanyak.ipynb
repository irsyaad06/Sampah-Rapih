{
 "cells": [
  {
   "cell_type": "code",
   "execution_count": 1,
   "metadata": {},
   "outputs": [
    {
     "data": {
      "text/html": [
       "<div>\n",
       "<style scoped>\n",
       "    .dataframe tbody tr th:only-of-type {\n",
       "        vertical-align: middle;\n",
       "    }\n",
       "\n",
       "    .dataframe tbody tr th {\n",
       "        vertical-align: top;\n",
       "    }\n",
       "\n",
       "    .dataframe thead th {\n",
       "        text-align: right;\n",
       "    }\n",
       "</style>\n",
       "<table border=\"1\" class=\"dataframe\">\n",
       "  <thead>\n",
       "    <tr style=\"text-align: right;\">\n",
       "      <th></th>\n",
       "      <th>jumlah_sampah</th>\n",
       "    </tr>\n",
       "    <tr>\n",
       "      <th>kecamatan</th>\n",
       "      <th></th>\n",
       "    </tr>\n",
       "  </thead>\n",
       "  <tbody>\n",
       "    <tr>\n",
       "      <th>Ujungberung</th>\n",
       "      <td>10746.5</td>\n",
       "    </tr>\n",
       "    <tr>\n",
       "      <th>Gedebage</th>\n",
       "      <td>10596.5</td>\n",
       "    </tr>\n",
       "    <tr>\n",
       "      <th>Lengkong</th>\n",
       "      <td>10555.3</td>\n",
       "    </tr>\n",
       "    <tr>\n",
       "      <th>Bandung Wetan</th>\n",
       "      <td>10546.8</td>\n",
       "    </tr>\n",
       "    <tr>\n",
       "      <th>Rancasari</th>\n",
       "      <td>10546.0</td>\n",
       "    </tr>\n",
       "  </tbody>\n",
       "</table>\n",
       "</div>"
      ],
      "text/plain": [
       "               jumlah_sampah\n",
       "kecamatan                   \n",
       "Ujungberung          10746.5\n",
       "Gedebage             10596.5\n",
       "Lengkong             10555.3\n",
       "Bandung Wetan        10546.8\n",
       "Rancasari            10546.0"
      ]
     },
     "metadata": {},
     "output_type": "display_data"
    },
    {
     "name": "stdout",
     "output_type": "stream",
     "text": [
      "Stored 'top_5_data_banyak' (DataFrame)\n"
     ]
    }
   ],
   "source": [
    "# Jumlah Sampah Kecamatan 5 Terbanyak\n",
    "\n",
    "import pandas as pd\n",
    "\n",
    "%store -r data_sampah\n",
    "\n",
    "data_sampah = data_sampah.groupby('kecamatan')['jumlah_sampah'].sum()\n",
    "\n",
    "df = pd.DataFrame(data_sampah)\n",
    "\n",
    "sorted_data = df.sort_values(by='jumlah_sampah', ascending=False)\n",
    "\n",
    "top_5_data_banyak = sorted_data.head(5)\n",
    "\n",
    "display(top_5_data_banyak)\n",
    "\n",
    "%store top_5_data_banyak"
   ]
  }
 ],
 "metadata": {
  "kernelspec": {
   "display_name": "Python 3",
   "language": "python",
   "name": "python3"
  },
  "language_info": {
   "codemirror_mode": {
    "name": "ipython",
    "version": 3
   },
   "file_extension": ".py",
   "mimetype": "text/x-python",
   "name": "python",
   "nbconvert_exporter": "python",
   "pygments_lexer": "ipython3",
   "version": "3.12.0"
  }
 },
 "nbformat": 4,
 "nbformat_minor": 2
}
