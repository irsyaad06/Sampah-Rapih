{
 "cells": [
  {
   "cell_type": "markdown",
   "metadata": {},
   "source": [
    "<h2 style=\"color: red\">UNTUK MELIHAT HASIL (SISTEM \"SAMPAH DI BANDUNG\") ADA DI CELL PALING BAWAH</h2>\n"
   ]
  },
  {
   "cell_type": "code",
   "execution_count": 37,
   "metadata": {},
   "outputs": [],
   "source": [
    "# INSTALL LIBRARY # LIBRARY YANG KAMI PAKAI\n",
    "\n",
    "# pip install folium numpy pandas geopandas matplotlib ipywidgets\n",
    "\n",
    "import folium\n",
    "import numpy as np\n",
    "import pandas as pd\n",
    "import geopandas as gpd\n",
    "import matplotlib.pyplot as plt\n",
    "import ipywidgets as widgets\n",
    "from IPython.display import *\n",
    "\n",
    "%store -r data_sampah\n",
    "%store -r total_sampah_per_tahun\n",
    "%store -r top_5_data_banyak\n",
    "%store -r top_5_data_sedikit\n",
    "%store -r min_penigkatan_sorted\n",
    "%store -r top_5_kecamatan_signifikan\n",
    "%store -r koordinat_BDG"
   ]
  },
  {
   "cell_type": "code",
   "execution_count": 38,
   "metadata": {
    "jupyter": {
     "source_hidden": true
    }
   },
   "outputs": [],
   "source": [
    "#Scrapping# DATA KECAMATAN\n",
    "data_kecamatan = pd.read_html('https://id.wikipedia.org/wiki/Daftar_kecamatan_dan_kelurahan_di_Kota_Bandung')\n",
    "data_kecamatan[0]\n",
    "\n",
    "kecamatannya = data_kecamatan[0]\n",
    "ndf = kecamatannya['Kecamatan']\n",
    "kecamatan_fix = ndf.iloc[:-1]\n",
    "\n",
    "sampah_sampah = [1,2] #tingkatan dari jenis sampah\n",
    "\n",
    "\n",
    "data = {\n",
    "    'id': pd.Series([i for i in range(0,2891)]),\n",
    "    'tanggal' : pd.date_range('2016-01-01', '2023-11-30'),\n",
    "    'kecamatan' : pd.Series(),\n",
    "    'jenis_sampah' : pd.Series(),\n",
    "    'jumlah_sampah' : pd.Series(),\n",
    "    'satuan' : pd.Series()\n",
    "}\n",
    "\n",
    "df = pd.DataFrame(data)\n",
    "\n",
    "df['kecamatan'] = df['kecamatan'].apply(lambda x: kecamatan_fix[np.random.choice(len(kecamatan_fix))])\n",
    "\n",
    "df['jenis_sampah'] = df['jenis_sampah'].apply(lambda x : sampah_sampah[np.random.choice(len(sampah_sampah))])\n",
    "\n",
    "tonase = [np.random.randint(1, 10) for i in range(len(df))]\n",
    "\n",
    "df['jumlah_sampah'] = tonase\n",
    "\n",
    "df['satuan'] = df['satuan'].fillna('TON')\n",
    "\n",
    "# df\n",
    "#DICOMMENT KARENA DI TAMPILKAN DI MAIN LAYOUT"
   ]
  },
  {
   "cell_type": "code",
   "execution_count": 39,
   "metadata": {
    "jupyter": {
     "source_hidden": true
    }
   },
   "outputs": [],
   "source": [
    "#Scrapping# JENIS SAMPAH\n",
    "\n",
    "pd.set_option('display.max_colwidth', None)\n",
    "\n",
    "# scrapping\n",
    "url = 'https://bandungkota.bps.go.id/statictable/2021/03/23/1457/produksi-sampah-menurut-jenisnya-di-kota-bandung-2020.html'\n",
    "jenis_sampah = pd.read_html(url)\n",
    "\n",
    "# Mengambil data dari Tabel 6 yang ada dilink diatas\n",
    "data_produksi_sampah = jenis_sampah[5]\n",
    "\n",
    "# Mengambil data\n",
    "jenis_sampah = data_produksi_sampah.iloc[4:14, 0]\n",
    "produksi_sampah = data_produksi_sampah.iloc[6:15, 1]\n",
    "persentase = data_produksi_sampah.iloc[6:15, 2]\n",
    "\n",
    "# nyatuin kolom-kolom jadi satu DataFrame\n",
    "df = pd.concat([jenis_sampah, produksi_sampah, persentase], axis=1)\n",
    "df.columns = ['Jenis Sampah', 'Produksi Sampah', 'Persentase']\n",
    "\n",
    "# Menghilangkan baris yang ada nilai NaN\n",
    "data_jenis_sampah = df.dropna()\n",
    "\n",
    "# Menghilangkan Kata setelah '/'\n",
    "data_jenis_sampah.loc[:, 'Jenis Sampah'] = data_jenis_sampah['Jenis Sampah'].str.split('/').str[0].str.strip()\n",
    "\n",
    "# display(data_jenis_sampah)\n",
    "#DICOMMENT KARENA DI TAMPILKAN DI MAIN LAYOUT"
   ]
  },
  {
   "cell_type": "code",
   "execution_count": 40,
   "metadata": {
    "jupyter": {
     "source_hidden": true
    }
   },
   "outputs": [],
   "source": [
    "#DataFrame# DATA ASLI\n",
    "\n",
    "data_sampah = pd.read_csv('../datasets/Dataset_dummy_v2.csv')\n",
    "data_sampah['tanggal'] = pd.to_datetime(data_sampah['tanggal'])\n",
    "\n",
    "# display(data_sampah)\n",
    "#DICOMMENT KARENA DI TAMPILKAN DI MAIN LAYOUT"
   ]
  },
  {
   "cell_type": "code",
   "execution_count": 41,
   "metadata": {
    "jupyter": {
     "source_hidden": true
    }
   },
   "outputs": [],
   "source": [
    "#DataFrame# JUMLAH SAMPAH PER TAHUN \n",
    "\n",
    "data_sampah['tanggal'] = pd.to_datetime(data_sampah['tanggal'])\n",
    "\n",
    "# Tambahkan kolom 'tahun' dengan menggunakan .dt.year\n",
    "data_sampah['tahun'] = data_sampah['tanggal'].dt.year\n",
    "\n",
    "# Konversi jumlah_sampah ke ton (asumsi awal dalam kilogram)\n",
    "data_sampah['jumlah_sampah_ton'] = data_sampah['jumlah_sampah'] / 1000\n",
    "\n",
    "# Agregasi jumlah sampah per tahun\n",
    "total_sampah_per_tahun = data_sampah.groupby('tahun')['jumlah_sampah_ton'].sum().reset_index()\n",
    "\n",
    "\n",
    "# display(total_sampah_per_tahun)\n",
    "#DICOMMENT KARENA DI TAMPILKAN DI MAIN LAYOUT"
   ]
  },
  {
   "cell_type": "code",
   "execution_count": 42,
   "metadata": {
    "jupyter": {
     "source_hidden": true
    }
   },
   "outputs": [],
   "source": [
    "#DataFrame# 5 KECAMATAN DENGAN JUMLAH SAMPAH TERBANYAK\n",
    "\n",
    "data_sampah_grouped = data_sampah.groupby('kecamatan')['jumlah_sampah'].sum()\n",
    "\n",
    "top_5_data_banyak = pd.DataFrame(data_sampah_grouped).sort_values(by='jumlah_sampah', ascending=False).head(5)\n",
    "\n",
    "# display(top_5_data_banyak)\n",
    "#DICOMMENT KARENA DI TAMPILKAN DI MAIN LAYOUT"
   ]
  },
  {
   "cell_type": "code",
   "execution_count": 43,
   "metadata": {
    "jupyter": {
     "source_hidden": true
    }
   },
   "outputs": [],
   "source": [
    "#DataFrame# 5 KECAMATAN DENGAN JUMLAH SAMPAH TERSEDIKIT\n",
    "\n",
    "# Mengelompokkan dan menghitung jumlah sampah per kecamatan\n",
    "data_sampah_grouped = data_sampah.groupby('kecamatan')['jumlah_sampah'].sum()\n",
    "\n",
    "# Membuat DataFrame baru dengan kolom 'kecamatan' dan 'jumlah_sampah'\n",
    "top_5_data_sedikit = pd.DataFrame(data_sampah_grouped).sort_values(by='jumlah_sampah', ascending=True).head(5)\n",
    "\n",
    "# display(top_5_data_sedikit)\n",
    "#DICOMMENT KARENA DI TAMPILKAN DI MAIN LAYOUT"
   ]
  },
  {
   "cell_type": "code",
   "execution_count": 44,
   "metadata": {
    "jupyter": {
     "source_hidden": true
    }
   },
   "outputs": [],
   "source": [
    "#DataFrame# 5 KECAMATAN DENGAN PENINGKATAN SAMPAH MINIM\n",
    "\n",
    "data_sampah['tanggal'] = pd.to_datetime(data_sampah['tanggal'])\n",
    "\n",
    "data_sampah['tahun'] = data_sampah['tanggal'].dt.year\n",
    "\n",
    "grouping = data_sampah.groupby(['kecamatan', 'tahun'])['jumlah_sampah'].sum().reset_index()\n",
    "\n",
    "grouping['peningkatan_sampah'] = grouping.groupby('kecamatan')['jumlah_sampah'].diff()\n",
    "\n",
    "min_peningkatan = grouping.loc[grouping.groupby('kecamatan')['peningkatan_sampah'].idxmin()]\n",
    "\n",
    "min_penigkatan_sorted = min_peningkatan.sort_values(by='peningkatan_sampah').head(5)\n",
    "\n",
    "# display(min_penigkatan_sorted)\n",
    "#DICOMMENT KARENA DI TAMPILKAN DI MAIN LAYOUT"
   ]
  },
  {
   "cell_type": "code",
   "execution_count": 45,
   "metadata": {
    "jupyter": {
     "source_hidden": true
    }
   },
   "outputs": [],
   "source": [
    "#DataFrame# 5 KECAMATAN DENGAN KENAIKAN PRODUKSI SAMPAH YANG SIGNIFIKAN\n",
    "\n",
    "data_sampah['tanggal'] = pd.to_datetime(data_sampah['tanggal'])\n",
    "data_sampah['tahun'] = data_sampah['tanggal'].dt.year\n",
    "\n",
    "# Mengelompokkan data berdasarkan kecamatan dan tahun\n",
    "grouping = data_sampah.groupby(['kecamatan', 'tahun'])['jumlah_sampah'].sum().reset_index()\n",
    "\n",
    "# Menghitung peningkatan sampah per tahun\n",
    "grouping['peningkatan_sampah'] = grouping.groupby('kecamatan')['jumlah_sampah'].diff()\n",
    "\n",
    "# Menentukan 5 kecamatan dengan peningkatan paling signifikan pertahunnya\n",
    "kecamatan_tertinggi = grouping.loc[grouping.groupby('kecamatan')['peningkatan_sampah'].idxmax()]\n",
    "\n",
    "# Memilih hanya 5 kecamatan tertinggi\n",
    "top_5_kecamatan_signifikan = kecamatan_tertinggi.nlargest(5, 'peningkatan_sampah')\n",
    "\n",
    "# display(top_5_kecamatan_signifikan)\n",
    "#DICOMMENT KARENA DI TAMPILKAN DI MAIN LAYOUT"
   ]
  },
  {
   "cell_type": "code",
   "execution_count": 46,
   "metadata": {
    "jupyter": {
     "source_hidden": true
    }
   },
   "outputs": [],
   "source": [
    "#VISUALISASI# JUMLAH SAMPAH PER TAHUN\n",
    "\n",
    "# fig, ax = plt.subplots(figsize=(18, 10))\n",
    "# ax.plot(total_sampah_per_tahun['tahun'], total_sampah_per_tahun['jumlah_sampah_ton'], marker='o')\n",
    "\n",
    "# plt.style.use('_mpl-gallery') \n",
    "# plt.title('Grafik Total Jumlah Sampah per Tahun')\n",
    "# plt.xlabel('Tahun')\n",
    "# plt.ylabel('Jumlah Sampah (TON)')\n",
    "# plt.grid(True)\n",
    "\n",
    "# plt.show()\n",
    "\n",
    "\n",
    "#DICOMMENT KARENA DI TAMPILKAN DI MAIN LAYOUT"
   ]
  },
  {
   "cell_type": "code",
   "execution_count": 47,
   "metadata": {
    "jupyter": {
     "source_hidden": true
    }
   },
   "outputs": [],
   "source": [
    "#VISUALISASI# 5 KECAMATAN DENGAN KENAIKAN PRODUKSI SAMPAH YANG SIGINIFIKAN\n",
    "# from matplotlib.patches import Patch\n",
    "\n",
    "# fig, ax = plt.subplots(figsize=(12, 6))\n",
    "\n",
    "# bar_colors = []\n",
    "# legend_colors = ['red', 'orange', 'green']\n",
    "# legend_labels = ['Meledak', 'Membludak', 'Menumpuk']\n",
    "\n",
    "# for idx, row in top_5_kecamatan_signifikan.iterrows():\n",
    "#     if row['peningkatan_sampah'] > 500:\n",
    "#         bar_colors.append('red')\n",
    "\n",
    "#     elif row['peningkatan_sampah'] > 200:\n",
    "#         bar_colors.append('orange')\n",
    "\n",
    "#     else:\n",
    "#         bar_colors.append('green')\n",
    "\n",
    "# info = [Patch(color=color, label=label) for color, label in zip(legend_colors, legend_labels)]\n",
    "\n",
    "# ax.bar(top_5_kecamatan_signifikan['kecamatan'], top_5_kecamatan_signifikan['peningkatan_sampah'], color=bar_colors)\n",
    "\n",
    "# ax.set_title('5 Kecamatan dengan Peningkatan Sampah Paling Signifikan pertahunnya')\n",
    "# ax.set_xlabel('Kecamatan')\n",
    "# ax.set_ylabel('Peningkatan Sampah (TON)')\n",
    "# plt.legend(handles=info)\n",
    "\n",
    "# plt.show()\n",
    "\n",
    "#DICOMMENT KARENA DI TAMPILKAN DI MAIN LAYOUT"
   ]
  },
  {
   "cell_type": "code",
   "execution_count": 48,
   "metadata": {
    "jupyter": {
     "source_hidden": true
    }
   },
   "outputs": [],
   "source": [
    "#VISUALISASI# JENIS SAMPAH\n",
    "\n",
    "# data_jenis_sampah['Persentase'] = data_jenis_sampah['Persentase'].astype(str).str.replace(',', '.').str.rstrip('%')\n",
    "# data_jenis_sampah.loc[:, 'Persentase'] = data_jenis_sampah['Persentase'].astype('float')\n",
    "\n",
    "# jenis_sampah = data_jenis_sampah.copy()\n",
    "\n",
    "# labels = jenis_sampah['Jenis Sampah']\n",
    "# sizes = jenis_sampah['Persentase']\n",
    "\n",
    "# # Mengatur ukuran figure\n",
    "# plt.figure(figsize=(10, 10))\n",
    "\n",
    "# # Plotting the pie chart\n",
    "# plt.pie(sizes, labels=labels, autopct='%1.1f%%', startangle=45, wedgeprops=dict(edgecolor='w'))\n",
    "\n",
    "# # Aspect ratio ensures that the pie is drawn as a circle\n",
    "# plt.axis('equal')\n",
    "\n",
    "# # Menambahkan judul\n",
    "# plt.title('Distribusi Jenis Sampah')\n",
    "\n",
    "# # Menampilkan pie chart\n",
    "# plt.show()\n",
    "\n",
    "\n",
    "#DICOMMENT KARENA DI TAMPILKAN DI MAIN LAYOUT"
   ]
  },
  {
   "cell_type": "code",
   "execution_count": 49,
   "metadata": {
    "jupyter": {
     "source_hidden": true
    }
   },
   "outputs": [],
   "source": [
    "#VISUALISASI# KECAMATAN YANG PRODUKSI SAMPAH LEBIH DARI 5000\n",
    "\n",
    "\n",
    "# filtered_data = data_jenis_sampah[data_jenis_sampah['Produksi Sampah'].astype(float) > 5000]\n",
    "\n",
    "# # Create a bar chart\n",
    "# plt.figure(figsize=(12, 6))\n",
    "# plt.bar(filtered_data['Jenis Sampah'], filtered_data['Produksi Sampah'].astype(float))\n",
    "\n",
    "# # Add labels and title\n",
    "# plt.xlabel('Jenis Sampah')\n",
    "# plt.ylabel('Produksi Sampah (m³)')\n",
    "# plt.title('Jenis Sampah dengan Produksi Lebih dari 5000 (Tahun 2020)')\n",
    "\n",
    "# # Rotate x-axis labels for better readability\n",
    "# plt.xticks(rotation=45, ha='right')\n",
    "\n",
    "# # Show the plot\n",
    "# plt.show()\n",
    "\n",
    "\n",
    "#DICOMMENT KARENA DI TAMPILKAN DI MAIN LAYOUT"
   ]
  },
  {
   "cell_type": "code",
   "execution_count": 50,
   "metadata": {
    "jupyter": {
     "source_hidden": true
    }
   },
   "outputs": [],
   "source": [
    "#VISUALISASI# 5 KECAMATAN DENGAN KENAIKAN SAMPAH TERBANYAK PER TAHUNNYA\n",
    "\n",
    "# top_5_data_banyak['jumlah_sampah'] = top_5_data_banyak['jumlah_sampah'] / 1000\n",
    "# fig, ax = plt.subplots(figsize=(10, 6))\n",
    "# bars = ax.bar(top_5_data_banyak.index, top_5_data_banyak['jumlah_sampah'], color='skyblue')\n",
    "\n",
    "# # Add labels and title\n",
    "# ax.set_xlabel('Kecamatan')\n",
    "# ax.set_ylabel('Jumlah Sampah (Ton)')\n",
    "# ax.set_title('Top 5 Kecamatan dengan Kenaikan Sampah Terbanyak per Tahunnya')\n",
    "\n",
    "# # Add values on top of the bars\n",
    "# for bar in bars:\n",
    "#     yval = bar.get_height()\n",
    "#     plt.text(bar.get_x() + bar.get_width()/2, yval, round(yval, 2), ha='center', va='bottom')\n",
    "\n",
    "# # Show the plot\n",
    "# plt.show()\n",
    "\n",
    "#DICOMMENT KARENA DI TAMPILKAN DI MAIN LAYOUT"
   ]
  },
  {
   "cell_type": "code",
   "execution_count": 51,
   "metadata": {
    "jupyter": {
     "source_hidden": true
    }
   },
   "outputs": [],
   "source": [
    "#VISUALISASI# 5 KECAMATAN DENGAN KENAIKAN SAMPAH TERSEDIKIT PER TAHUNNYA\n",
    "\n",
    "# top_5_data_sedikit['jumlah_sampah'] = top_5_data_sedikit['jumlah_sampah'] / 1000\n",
    "# # Create a bar chart\n",
    "# fig, ax = plt.subplots(figsize=(10, 6))\n",
    "# bars = ax.bar(top_5_data_sedikit.index, top_5_data_sedikit['jumlah_sampah'], color='skyblue')\n",
    "\n",
    "# # Add labels and title\n",
    "# ax.set_xlabel('Kecamatan')\n",
    "# ax.set_ylabel('Jumlah Sampah (Ton)')\n",
    "# ax.set_title('Top 5 Kecamatan dengan Kenaikan Sampah Tersedikit per Tahunnya')\n",
    "\n",
    "# # Add values on top of the bars\n",
    "# for bar in bars:\n",
    "#     yval = bar.get_height()\n",
    "#     plt.text(bar.get_x() + bar.get_width()/2, yval, round(yval, 2), ha='center', va='bottom')\n",
    "\n",
    "# # Show the plot\n",
    "# plt.show()\n",
    "\n",
    "#DICOMMENT KARENA DI TAMPILKAN DI MAIN LAYOUT"
   ]
  },
  {
   "cell_type": "code",
   "execution_count": 52,
   "metadata": {
    "jupyter": {
     "source_hidden": true
    }
   },
   "outputs": [
    {
     "data": {
      "text/plain": [
       "<folium.features.GeoJson at 0x14ffa3e9be0>"
      ]
     },
     "execution_count": 52,
     "metadata": {},
     "output_type": "execute_result"
    }
   ],
   "source": [
    "# GIS # MAP KECAMATAN BANDUNG\n",
    "\n",
    "# Import data\n",
    "data_sampah = pd.read_csv('../datasets/Dataset_dummy_v2.csv')\n",
    "koordinat_BDG = pd.read_csv('../datasets/Koordinat_kecamatan_kota_bandung.csv')\n",
    "bandung = gpd.read_file('../datasets/kecBandung.json')\n",
    "\n",
    "# Mengubah kolom tanggal menjadi tipe data datetime\n",
    "data_sampah['tanggal'] = pd.to_datetime(data_sampah['tanggal'], format='%m/%d/%Y')\n",
    "\n",
    "# Membuat kolom baru untuk mengelompokkan kolom tanggal berdasarkan tahun\n",
    "data_sampah['tahun'] = data_sampah['tanggal'].dt.to_period('Y')\n",
    "\n",
    "# Mengelompokkan berdasarkan tahun dan kecamatan, kemudian menghitung jumlah sampah\n",
    "grup_tahun_kecamatan = data_sampah.groupby(['tahun', 'kecamatan']).agg({\n",
    "    'jumlah_sampah': 'sum'\n",
    "}).reset_index()\n",
    "\n",
    "\n",
    "data_gabung = pd.merge(grup_tahun_kecamatan, koordinat_BDG, on='kecamatan')\n",
    "\n",
    "# Memasukan longitude dan latitud (rata-rata supaya berada di tengah)\n",
    "bandung_map = folium.Map(location=[koordinat_BDG['Lintang Selatan'].mean(), koordinat_BDG['Bujur Timur'].mean()], zoom_start=13)\n",
    "\n",
    "\n",
    "for index, row in data_gabung.iterrows():\n",
    "    # Menentukan warna marker berdasarkan jumlah sampah\n",
    "    if row['jumlah_sampah'] > 1500:\n",
    "        color = 'red'\n",
    "    elif row['jumlah_sampah'] > 1000:\n",
    "        color = 'orange'\n",
    "    else:\n",
    "        color = 'green'\n",
    "\n",
    "    # Membuat HTML untuk Tooltip\n",
    "    tooltip = f\"\"\"\n",
    "    <h4><strong>Kec.{row['kecamatan']}</strong></h4>\n",
    "    <h5><strong>Tahun:</strong> 2016 - 2023</h5>\n",
    "    <h5><strong>Jumlah Sampah:</strong> {row['jumlah_sampah']} Ton</h5>\n",
    "    \"\"\"\n",
    "\n",
    "    # Menambahkan marker untuk setiap baris dengan warna berdasarkan jumlah sampah\n",
    "    marker = folium.Marker(\n",
    "        location=[row['Lintang Selatan'], row['Bujur Timur']],\n",
    "        tooltip=tooltip,\n",
    "        icon=folium.Icon(color=color),\n",
    "    )\n",
    "    marker.add_to(bandung_map)\n",
    "\n",
    "\n",
    "bandung_geojson = bandung.to_json()\n",
    "folium.GeoJson(bandung_geojson).add_to(bandung_map)\n",
    "# Menampilkan peta di notebook\n",
    "# display(bandung_map)\n",
    "\n",
    "#DICOMMENT KARENA DI TAMPILKAN DI MAIN LAYOUT"
   ]
  },
  {
   "cell_type": "code",
   "execution_count": 53,
   "metadata": {
    "jupyter": {
     "source_hidden": true
    }
   },
   "outputs": [
    {
     "data": {
      "application/vnd.jupyter.widget-view+json": {
       "model_id": "6865ffbc19464b8daec8e14afb2bbdd9",
       "version_major": 2,
       "version_minor": 0
      },
      "text/plain": [
       "VBox(children=(VBox(children=(HTML(value='<h1 style=\"text-align: center;\">PENDATAAN SAMPAH KECAMATAN DI BANDUN…"
      ]
     },
     "metadata": {},
     "output_type": "display_data"
    }
   ],
   "source": [
    "# MAIN LAYOUT # SISTEM SAMPAH DI BANDUNG (ISI TUGAS BESAR)\n",
    "\n",
    "\n",
    "title = widgets.HTML('<h1 style=\"text-align: center;\">PENDATAAN SAMPAH KECAMATAN DI BANDUNG</h1>')\n",
    "\n",
    "# ---------------------------------------------------------------------------------------------------------------------------------------------------- #\n",
    "\n",
    "#Canvas untuk tampilan content\n",
    "output = widgets.Output(layout={'width': '900px','height':'800px'})\n",
    "\n",
    "\n",
    "with output :\n",
    "        halo = widgets.HTML('<div style=\"margin-left:130px; font-size: 18px; color: cyan;\"><b>Selamat Datang, Silahkan Klik Salah Satu Button dikiri ^.^</b></div>')\n",
    "        display(halo)\n",
    "\n",
    "# ---------------------------------------------------------------------------------------------------------------------------------------------------- #\n",
    "\n",
    "#Bikin buton buat navigasi ke beberapa data\n",
    "\n",
    "button_sampah = widgets.Button(\n",
    "    description='Data Sampah',\n",
    "    disabled=False,\n",
    "    button_style='info',\n",
    "    tooltip='Open the Datasets',\n",
    "    icon='database'\n",
    ")\n",
    "\n",
    "button_bar = widgets.Button(\n",
    "    description='Diagram Sampah',\n",
    "    button_style='warning',\n",
    "    tooltip='Open the Bar',\n",
    "    icon='bar-chart'\n",
    ")\n",
    "\n",
    "button_map = widgets.Button(\n",
    "    description='Lihat Map',\n",
    "    button_style='success',\n",
    "    tooltip='Open the Map',\n",
    "    icon='map'\n",
    ")\n",
    "\n",
    "button_close = widgets.Button(\n",
    "    description='Close',\n",
    "    button_style='danger',\n",
    "    tooltip='Close',\n",
    "    icon='times'\n",
    ")\n",
    "\n",
    "\n",
    "# ---------------------------------------------------------------------------------------------------------------------------------------------------- #\n",
    "\n",
    "\n",
    "def open_sampah(button_sampah):\n",
    "    with output:\n",
    "        clear_output()\n",
    "        tabel_aja = widgets.Output(layout={'width': '100%'})\n",
    "\n",
    "        options = ['Data Sampah di tiap Kecamatan','Jenis Sampah','Total Sampah Tahun 2016 - 2023','5 Kecamatan dengan produksi sampah yang Signifikan','5 Kecamatan dengan peningkatan Sampah yang Minim', '5 Kecamatan dengan Sampah ter Sedikit', '5 Kecamatan dengan Sampah ter Banyak']\n",
    "        dropdown = widgets.Dropdown(options=options, description='Pilih Dataset :', value=options[0])\n",
    "        \n",
    "        event_atas = widgets.VBox([dropdown, button_close], layout=widgets.Layout(display='flex', flex_flow='row', align_items='baseline', justify_content='space-between'))\n",
    "        konten_tabel = widgets.HBox([tabel_aja], layout=widgets.Layout(padding='10px 20px 20px 90px')) \n",
    "\n",
    "        tampil_dataset  = widgets.VBox([event_atas, widgets.HBox([konten_tabel])])\n",
    "\n",
    "        display(tampil_dataset)\n",
    "\n",
    "        \n",
    "        with tabel_aja :\n",
    "            judul = widgets.HTML('<h2>Data Sampah di tiap Kecamatan</h2>')\n",
    "            display(judul)\n",
    "            display(data_sampah)\n",
    "            \n",
    "        def display_table(change):\n",
    "            with tabel_aja:\n",
    "                clear_output()\n",
    "                selected_option = change['new']\n",
    "                if selected_option == 'Data Sampah di tiap Kecamatan' :\n",
    "                    judul = widgets.HTML('<h2>Data Sampah di tiap Kecamatan</h2>')\n",
    "                    display(judul)\n",
    "                    display(data_sampah)\n",
    "                    \n",
    "                elif selected_option == 'Total Sampah Tahun 2016 - 2023':\n",
    "                    judul = widgets.HTML('<h2>Total Sampah Tahun 2016 - 2023</h2>')\n",
    "                    display(judul)\n",
    "                    display(total_sampah_per_tahun)\n",
    "                    \n",
    "                elif selected_option == '5 Kecamatan dengan Sampah ter Banyak':\n",
    "                    judul = widgets.HTML('<h2>5 Kecamatan dengan Sampah ter Banyak</h2>')\n",
    "                    display(judul)\n",
    "                    display(top_5_data_banyak)\n",
    "                    \n",
    "                elif selected_option == '5 Kecamatan dengan Sampah ter Sedikit':\n",
    "                    judul = widgets.HTML('<h2>5 Kecamatan dengan Sampah ter Sedikit</h2>')\n",
    "                    display(judul)\n",
    "                    display(top_5_data_sedikit)\n",
    "                    \n",
    "                elif selected_option == '5 Kecamatan dengan peningkatan Sampah yang Minim':\n",
    "                    judul = widgets.HTML('<h2>5 Kecamatan dengan peningkatan Sampah yang Minim</h2>')\n",
    "                    display(judul)\n",
    "                    display(min_penigkatan_sorted)\n",
    "                    \n",
    "                elif selected_option == '5 Kecamatan dengan produksi sampah yang Signifikan':\n",
    "                    judul = widgets.HTML('<h2>5 Kecamatan dengan produksi sampah yang Signifikan</h2>')\n",
    "                    display(judul)\n",
    "                    display(top_5_kecamatan_signifikan)\n",
    "                    \n",
    "                elif selected_option == 'Jenis Sampah':\n",
    "                    judul = widgets.HTML('<h2>Jenis Sampah yang ada di Kota Bandung</h2>')\n",
    "                    display(judul)\n",
    "                    display(data_jenis_sampah)\n",
    "        \n",
    "        dropdown.observe(display_table, names='value')\n",
    "\n",
    "\n",
    "# ---------------------------------------------------------------------------------------------------------------------------------------------------- #\n",
    "\n",
    "\n",
    "def open_bar(button_bar):\n",
    "    with output:\n",
    "        clear_output()\n",
    "        diagram_aja = widgets.Output(layout={'width': '800px'})\n",
    "   \n",
    "\n",
    "        options = ['Pilih Diagram','Jenis Sampah','Jenis Sampah dengan produksi lebih dari 5000','Total Sampah Tahun 2016 - 2023','5 Kecamatan dengan produksi sampah yang Signifikan', '5 Kecamatan dengan Sampah ter Sedikit', '5 Kecamatan dengan Sampah ter Banyak']\n",
    "        dropdown = widgets.Dropdown(options=options, description='Pilih Diagram :', value=options[0])\n",
    "\n",
    "        event_atas = widgets.VBox([dropdown, button_close], layout=widgets.Layout(display='flex', flex_flow='row', align_items='baseline', justify_content='space-between'))\n",
    "        konten_diagram = widgets.HBox([diagram_aja], layout=widgets.Layout(padding='10px 20px 20px 0'))\n",
    "\n",
    "        tampil_dataset  = widgets.VBox([event_atas, widgets.HBox([konten_diagram])])\n",
    "        display(tampil_dataset)\n",
    "        with diagram_aja:\n",
    "            display(Image(filename='../images/chart.png'))\n",
    "\n",
    "        def display_table(change):\n",
    "            with diagram_aja:\n",
    "                clear_output(wait=True)  # Clear the output and wait for new content\n",
    "                selected_option = change['new']\n",
    "                if selected_option == 'Total Sampah Tahun 2016 - 2023':\n",
    "                    display(Image(filename='../images/data_sampah_pertahun.png', width=912, height=530))\n",
    "                elif selected_option == '5 Kecamatan dengan Sampah ter Banyak':\n",
    "                    display(Image(filename='../images/top-5-banyak.png',width=646, height=420))\n",
    "                elif selected_option == '5 Kecamatan dengan Sampah ter Sedikit':\n",
    "                    display(Image(filename='../images/top-5-sedikit.png',width=646, height=420))\n",
    "                elif selected_option == '5 Kecamatan dengan produksi sampah yang Signifikan':\n",
    "                    display(Image(filename='../images/top-5-signifikan.png',width=773, height=420))\n",
    "                elif selected_option == 'Jenis Sampah':\n",
    "                    display(Image(filename='../images/jenis_sampah_chart.png',width=618, height=541))\n",
    "                elif selected_option == 'Jenis Sampah dengan produksi lebih dari 5000':\n",
    "                    display(Image(filename='../images/jenis_sampah_5000.png',width=682, height=443))\n",
    "\n",
    "        dropdown.observe(display_table, names='value')\n",
    "\n",
    "# ---------------------------------------------------------------------------------------------------------------------------------------------------- #\n",
    "\n",
    "def open_map(button_map):\n",
    "    with output:\n",
    "        clear_output()\n",
    "        display(button_close, bandung_map)\n",
    "\n",
    "# ---------------------------------------------------------------------------------------------------------------------------------------------------- #\n",
    "\n",
    "def close(button_close):\n",
    "    with output:\n",
    "        clear_output()\n",
    "        halo = widgets.HTML('<div style=\"margin-left:130px; font-size: 18px; color: cyan;\"><b>Selamat Datang, Silahkan Klik Salah Satu Button dikiri ^.^</b></div>')\n",
    "        display(halo)\n",
    "# ---------------------------------------------------------------------------------------------------------------------------------------------------- #\n",
    "\n",
    "#Menjalankan Function \n",
    "button_map.on_click(open_map)\n",
    "button_bar.on_click(open_bar)\n",
    "button_sampah.on_click(open_sampah)\n",
    "button_close.on_click(close)\n",
    "\n",
    "# Judul atas\n",
    "title_box = widgets.VBox([title],layout=widgets.Layout(margin='20px 0 40px 0'))\n",
    "\n",
    "# Sidebar untuk butong kiri \n",
    "sidebar = widgets.VBox([button_sampah, button_bar,button_map])\n",
    "\n",
    "# Konten untuk nampilin tampilan\n",
    "content = widgets.HBox([output], layout=widgets.Layout(margin='0 0 0 20px'))  # Adjust the margin values as needed\n",
    "\n",
    "# Tampilan Utama (Seluruh)\n",
    "main_layout = widgets.VBox([title_box, widgets.HBox([sidebar, content])])\n",
    "\n",
    "\n",
    "display(main_layout)\n"
   ]
  }
 ],
 "metadata": {
  "kernelspec": {
   "display_name": "Python 3 (ipykernel)",
   "language": "python",
   "name": "python3"
  },
  "language_info": {
   "codemirror_mode": {
    "name": "ipython",
    "version": 3
   },
   "file_extension": ".py",
   "mimetype": "text/x-python",
   "name": "python",
   "nbconvert_exporter": "python",
   "pygments_lexer": "ipython3",
   "version": "3.12.0"
  }
 },
 "nbformat": 4,
 "nbformat_minor": 4
}
