{
 "cells": [
  {
   "cell_type": "code",
   "execution_count": 11,
   "metadata": {},
   "outputs": [
    {
     "name": "stdout",
     "output_type": "stream",
     "text": [
      "Stored 'data_sampah' (DataFrame)\n"
     ]
    }
   ],
   "source": [
    "# Data Asli\n",
    "\n",
    "import pandas as pd\n",
    "\n",
    "data_path = '../datasets/Dataset_dummy_v2.csv'\n",
    "data_sampah = pd.read_csv(data_path)\n",
    "data_sampah['tanggal'] = pd.to_datetime(data_sampah['tanggal'])\n",
    "\n",
    "# display(data_sampah)\n",
    "\n",
    "%store data_sampah\n"
   ]
  },
  {
   "cell_type": "code",
   "execution_count": 12,
   "metadata": {},
   "outputs": [
    {
     "name": "stdout",
     "output_type": "stream",
     "text": [
      "Stored 'total_sampah_per_tahun' (DataFrame)\n"
     ]
    }
   ],
   "source": [
    "# Jumlah Sampah per Tahun \n",
    "\n",
    "import pandas as pd\n",
    "import matplotlib.pyplot as plt\n",
    "\n",
    "%store -r data_sampah\n",
    "\n",
    "# Ubah kolom 'tanggal' menjadi tipe data waktu\n",
    "data_sampah['tanggal'] = pd.to_datetime(data_sampah['tanggal'])\n",
    "\n",
    "# Tambahkan kolom 'tahun' dengan menggunakan .dt.year\n",
    "data_sampah['tahun'] = data_sampah['tanggal'].dt.year\n",
    "\n",
    "# Konversi jumlah_sampah ke ton (asumsi awal dalam kilogram)\n",
    "data_sampah['jumlah_sampah_ton'] = data_sampah['jumlah_sampah'] / 1000\n",
    "\n",
    "# Agregasi jumlah sampah per tahun\n",
    "total_sampah_per_tahun = data_sampah.groupby('tahun')['jumlah_sampah_ton'].sum().reset_index()\n",
    "\n",
    "# display(total_sampah_per_tahun)\n",
    "\n",
    "%store total_sampah_per_tahun"
   ]
  },
  {
   "cell_type": "code",
   "execution_count": 13,
   "metadata": {},
   "outputs": [
    {
     "name": "stdout",
     "output_type": "stream",
     "text": [
      "Stored 'top_5_data_banyak' (DataFrame)\n"
     ]
    }
   ],
   "source": [
    "# Jumlah Sampah Kecamatan 5 Terbanyak\n",
    "\n",
    "import pandas as pd\n",
    "\n",
    "%store -r data_sampah\n",
    "\n",
    "data_sampah = data_sampah.groupby('kecamatan')['jumlah_sampah'].sum()\n",
    "\n",
    "df = pd.DataFrame(data_sampah)\n",
    "\n",
    "sorted_data = df.sort_values(by='jumlah_sampah', ascending=False)\n",
    "\n",
    "top_5_data_banyak = sorted_data.head(5)\n",
    "\n",
    "# display(top_5_data_banyak)\n",
    "\n",
    "%store top_5_data_banyak"
   ]
  },
  {
   "cell_type": "code",
   "execution_count": 14,
   "metadata": {},
   "outputs": [
    {
     "name": "stdout",
     "output_type": "stream",
     "text": [
      "Stored 'top_5_data_sedikit' (DataFrame)\n"
     ]
    }
   ],
   "source": [
    "# Jumlah Sampah Kecamatan 5 Tersedikit\n",
    "\n",
    "import pandas as pd\n",
    "import matplotlib.pyplot as plt\n",
    "\n",
    "%store -r data_sampah\n",
    "\n",
    "# Mengelompokkan dan menghitung jumlah sampah per kecamatan\n",
    "data_sampah_grouped = data_sampah.groupby('kecamatan')['jumlah_sampah'].sum()\n",
    "\n",
    "# Membuat DataFrame baru dengan kolom 'kecamatan' dan 'jumlah_sampah'\n",
    "top_5_data_sedikit = pd.DataFrame(data_sampah_grouped).sort_values(by='jumlah_sampah', ascending=True).head(5)\n",
    "\n",
    "# Menampilkan DataFrame\n",
    "# display(top_5_data_sedikit)\n",
    "\n",
    "%store top_5_data_sedikit\n"
   ]
  },
  {
   "cell_type": "code",
   "execution_count": 15,
   "metadata": {},
   "outputs": [
    {
     "name": "stdout",
     "output_type": "stream",
     "text": [
      "Stored 'min_penigkatan_sorted' (DataFrame)\n"
     ]
    }
   ],
   "source": [
    "import pandas as pd\n",
    "\n",
    "%store -r data_sampah \n",
    "\n",
    "data_sampah['tanggal'] = pd.to_datetime(data_sampah['tanggal'])\n",
    "\n",
    "data_sampah['tahun'] = data_sampah['tanggal'].dt.year\n",
    "\n",
    "grouping = data_sampah.groupby(['kecamatan', 'tahun'])['jumlah_sampah'].sum().reset_index()\n",
    "\n",
    "grouping['peningkatan_sampah'] = grouping.groupby('kecamatan')['jumlah_sampah'].diff()\n",
    "\n",
    "min_peningkatan = grouping.loc[grouping.groupby('kecamatan')['peningkatan_sampah'].idxmin()]\n",
    "\n",
    "min_penigkatan_sorted = min_peningkatan.sort_values(by='peningkatan_sampah').head(5)\n",
    "\n",
    "# Tampilkan hanya 5 data pertama\n",
    "# display(min_penigkatan_sorted)\n",
    "\n",
    "%store min_penigkatan_sorted\n"
   ]
  },
  {
   "cell_type": "code",
   "execution_count": 16,
   "metadata": {},
   "outputs": [
    {
     "name": "stdout",
     "output_type": "stream",
     "text": [
      "Stored 'top_5_kecamatan_signifikan' (DataFrame)\n"
     ]
    }
   ],
   "source": [
    "import pandas as pd\n",
    "\n",
    "# Menyiapkan data\n",
    "\n",
    "%store -r data_sampah\n",
    "\n",
    "data_sampah['tanggal'] = pd.to_datetime(data_sampah['tanggal'])\n",
    "data_sampah['tahun'] = data_sampah['tanggal'].dt.year\n",
    "\n",
    "# Mengelompokkan data berdasarkan kecamatan dan tahun\n",
    "grouping = data_sampah.groupby(['kecamatan', 'tahun'])['jumlah_sampah'].sum().reset_index()\n",
    "\n",
    "# Menghitung peningkatan sampah per tahun\n",
    "grouping['peningkatan_sampah'] = grouping.groupby('kecamatan')['jumlah_sampah'].diff()\n",
    "\n",
    "# Menentukan 5 kecamatan dengan peningkatan paling signifikan pertahunnya\n",
    "kecamatan_tertinggi = grouping.loc[grouping.groupby('kecamatan')['peningkatan_sampah'].idxmax()]\n",
    "\n",
    "# Memilih hanya 5 kecamatan tertinggi\n",
    "top_5_kecamatan_signifikan = kecamatan_tertinggi.nlargest(5, 'peningkatan_sampah')\n",
    "\n",
    "# display(top_5_kecamatan_signifikan)\n",
    "\n",
    "%store top_5_kecamatan_signifikan \n"
   ]
  },
  {
   "cell_type": "code",
   "execution_count": 17,
   "metadata": {},
   "outputs": [
    {
     "name": "stdout",
     "output_type": "stream",
     "text": [
      "Stored 'top_5_kecamatan_signifikan' (DataFrame)\n"
     ]
    }
   ],
   "source": [
    "import pandas as pd\n",
    "\n",
    "# Menyiapkan data\n",
    "\n",
    "%store -r data_sampah\n",
    "\n",
    "data_sampah['tanggal'] = pd.to_datetime(data_sampah['tanggal'])\n",
    "data_sampah['tahun'] = data_sampah['tanggal'].dt.year\n",
    "\n",
    "# Mengelompokkan data berdasarkan kecamatan dan tahun\n",
    "grouping = data_sampah.groupby(['kecamatan', 'tahun'])['jumlah_sampah'].sum().reset_index()\n",
    "\n",
    "# Menghitung peningkatan sampah per tahun\n",
    "grouping['peningkatan_sampah'] = grouping.groupby('kecamatan')['jumlah_sampah'].diff()\n",
    "\n",
    "# Menentukan 5 kecamatan dengan peningkatan paling signifikan pertahunnya\n",
    "kecamatan_tertinggi = grouping.loc[grouping.groupby('kecamatan')['peningkatan_sampah'].idxmax()]\n",
    "\n",
    "# Memilih hanya 5 kecamatan tertinggi\n",
    "top_5_kecamatan_signifikan = kecamatan_tertinggi.nlargest(5, 'peningkatan_sampah')\n",
    "\n",
    "# display(top_5_kecamatan_signifikan)\n",
    "\n",
    "%store top_5_kecamatan_signifikan \n"
   ]
  },
  {
   "cell_type": "code",
   "execution_count": 18,
   "metadata": {},
   "outputs": [
    {
     "name": "stdout",
     "output_type": "stream",
     "text": [
      "Stored 'koordinat_BDG' (DataFrame)\n"
     ]
    }
   ],
   "source": [
    "import pandas as pd\n",
    "\n",
    "koordinat_BDG = pd.read_csv('../datasets/Koordinat_kecamatan_kota_bandung.csv')\n",
    "\n",
    "# display(koordinat_BDG)\n",
    "\n",
    "%store koordinat_BDG"
   ]
  },
  {
   "cell_type": "code",
   "execution_count": 19,
   "metadata": {},
   "outputs": [
    {
     "name": "stdout",
     "output_type": "stream",
     "text": [
      "Stored 'data_jenis_sampah' (DataFrame)\n"
     ]
    }
   ],
   "source": [
    "# Scrapping Jenis Sampah\n",
    "\n",
    "import pandas as pd\n",
    "\n",
    "pd.set_option('display.max_colwidth', None)\n",
    "\n",
    "# scrapping\n",
    "url = 'https://bandungkota.bps.go.id/statictable/2021/03/23/1457/produksi-sampah-menurut-jenisnya-di-kota-bandung-2020.html'\n",
    "jenis_sampah = pd.read_html(url)\n",
    "\n",
    "# Mengambil data dari Tabel 6 yang ada dilink diatas\n",
    "data_produksi_sampah = jenis_sampah[5]\n",
    "\n",
    "# Mengambil data\n",
    "jenis_sampah = data_produksi_sampah.iloc[4:14, 0]\n",
    "produksi_sampah = data_produksi_sampah.iloc[6:15, 1]\n",
    "persentase = data_produksi_sampah.iloc[6:15, 2]\n",
    "\n",
    "# nyatuin kolom-kolom jadi satu DataFrame\n",
    "df = pd.concat([jenis_sampah, produksi_sampah, persentase], axis=1)\n",
    "df.columns = ['Jenis Sampah', 'Produksi Sampah', 'Persentase']\n",
    "\n",
    "# Menghilangkan baris yang mengandung nilai NaN\n",
    "data_jenis_sampah = df.dropna()\n",
    "\n",
    "# Menghilangkan Kata setelah '/'\n",
    "data_jenis_sampah.loc[:, 'Jenis Sampah'] = data_jenis_sampah['Jenis Sampah'].str.split('/').str[0].str.strip()\n",
    "\n",
    "# Menampilkan hasil\n",
    "# print(data_jenis_sampah)\n",
    "\n",
    "%store data_jenis_sampah"
   ]
  },
  {
   "cell_type": "code",
   "execution_count": 20,
   "metadata": {},
   "outputs": [
    {
     "ename": "ValueError",
     "evalue": "Location should consist of two numerical values, but ' 107.660193;' of type <class 'str'> is not convertible to float.",
     "output_type": "error",
     "traceback": [
      "\u001b[1;31m---------------------------------------------------------------------------\u001b[0m",
      "\u001b[1;31mValueError\u001b[0m                                Traceback (most recent call last)",
      "File \u001b[1;32mc:\\Users\\irsya\\AppData\\Local\\Programs\\Python\\Python312\\Lib\\site-packages\\folium\\utilities.py:94\u001b[0m, in \u001b[0;36mvalidate_location\u001b[1;34m(location)\u001b[0m\n\u001b[0;32m     93\u001b[0m \u001b[38;5;28;01mtry\u001b[39;00m:\n\u001b[1;32m---> 94\u001b[0m     \u001b[38;5;28;43mfloat\u001b[39;49m\u001b[43m(\u001b[49m\u001b[43mcoord\u001b[49m\u001b[43m)\u001b[49m\n\u001b[0;32m     95\u001b[0m \u001b[38;5;28;01mexcept\u001b[39;00m (\u001b[38;5;167;01mTypeError\u001b[39;00m, \u001b[38;5;167;01mValueError\u001b[39;00m):\n",
      "\u001b[1;31mValueError\u001b[0m: could not convert string to float: ' 107.660193;'",
      "\nDuring handling of the above exception, another exception occurred:\n",
      "\u001b[1;31mValueError\u001b[0m                                Traceback (most recent call last)",
      "Cell \u001b[1;32mIn[20], line 50\u001b[0m\n\u001b[0;32m     43\u001b[0m     tooltip_html \u001b[38;5;241m=\u001b[39m \u001b[38;5;124mf\u001b[39m\u001b[38;5;124m\"\"\"\u001b[39m\n\u001b[0;32m     44\u001b[0m \u001b[38;5;124m    <h4>\u001b[39m\u001b[38;5;132;01m{\u001b[39;00mrow[\u001b[38;5;124m'\u001b[39m\u001b[38;5;124mkecamatan\u001b[39m\u001b[38;5;124m'\u001b[39m]\u001b[38;5;132;01m}\u001b[39;00m\u001b[38;5;124m</h4>\u001b[39m\n\u001b[0;32m     45\u001b[0m \u001b[38;5;124m    <h5>Tahun: \u001b[39m\u001b[38;5;132;01m{\u001b[39;00mrow[\u001b[38;5;124m'\u001b[39m\u001b[38;5;124mtahun\u001b[39m\u001b[38;5;124m'\u001b[39m]\u001b[38;5;132;01m}\u001b[39;00m\u001b[38;5;124m</h5>\u001b[39m\n\u001b[0;32m     46\u001b[0m \u001b[38;5;124m    <h5>Jumlah Sampah: \u001b[39m\u001b[38;5;132;01m{\u001b[39;00mrow[\u001b[38;5;124m'\u001b[39m\u001b[38;5;124mjumlah_sampah\u001b[39m\u001b[38;5;124m'\u001b[39m]\u001b[38;5;132;01m}\u001b[39;00m\u001b[38;5;124m Ton</h5>\u001b[39m\n\u001b[0;32m     47\u001b[0m \u001b[38;5;124m    \u001b[39m\u001b[38;5;124m\"\"\"\u001b[39m\n\u001b[0;32m     49\u001b[0m     \u001b[38;5;66;03m# Menambahkan marker untuk setiap baris dengan warna berdasarkan jumlah sampah\u001b[39;00m\n\u001b[1;32m---> 50\u001b[0m     marker \u001b[38;5;241m=\u001b[39m \u001b[43mfolium\u001b[49m\u001b[38;5;241;43m.\u001b[39;49m\u001b[43mMarker\u001b[49m\u001b[43m(\u001b[49m\n\u001b[0;32m     51\u001b[0m \u001b[43m        \u001b[49m\u001b[43mlocation\u001b[49m\u001b[38;5;241;43m=\u001b[39;49m\u001b[43m[\u001b[49m\u001b[43mrow\u001b[49m\u001b[43m[\u001b[49m\u001b[38;5;124;43m'\u001b[39;49m\u001b[38;5;124;43mLintang Selatan\u001b[39;49m\u001b[38;5;124;43m'\u001b[39;49m\u001b[43m]\u001b[49m\u001b[43m,\u001b[49m\u001b[43m \u001b[49m\u001b[43mrow\u001b[49m\u001b[43m[\u001b[49m\u001b[38;5;124;43m'\u001b[39;49m\u001b[38;5;124;43mBujur Timur\u001b[39;49m\u001b[38;5;124;43m'\u001b[39;49m\u001b[43m]\u001b[49m\u001b[43m]\u001b[49m\u001b[43m,\u001b[49m\n\u001b[0;32m     52\u001b[0m \u001b[43m        \u001b[49m\u001b[43mtooltip\u001b[49m\u001b[38;5;241;43m=\u001b[39;49m\u001b[43mtooltip_html\u001b[49m\u001b[43m,\u001b[49m\n\u001b[0;32m     53\u001b[0m \u001b[43m        \u001b[49m\u001b[43micon\u001b[49m\u001b[38;5;241;43m=\u001b[39;49m\u001b[43mfolium\u001b[49m\u001b[38;5;241;43m.\u001b[39;49m\u001b[43mIcon\u001b[49m\u001b[43m(\u001b[49m\u001b[43mcolor\u001b[49m\u001b[38;5;241;43m=\u001b[39;49m\u001b[43mcolor\u001b[49m\u001b[43m)\u001b[49m\u001b[43m,\u001b[49m\n\u001b[0;32m     54\u001b[0m \u001b[43m    \u001b[49m\u001b[43m)\u001b[49m\n\u001b[0;32m     55\u001b[0m     marker\u001b[38;5;241m.\u001b[39madd_to(bandung_map)\n\u001b[0;32m     58\u001b[0m bandung_geojson \u001b[38;5;241m=\u001b[39m bandung\u001b[38;5;241m.\u001b[39mto_json()\n",
      "File \u001b[1;32mc:\\Users\\irsya\\AppData\\Local\\Programs\\Python\\Python312\\Lib\\site-packages\\folium\\map.py:358\u001b[0m, in \u001b[0;36mMarker.__init__\u001b[1;34m(self, location, popup, tooltip, icon, draggable, **kwargs)\u001b[0m\n\u001b[0;32m    356\u001b[0m \u001b[38;5;28msuper\u001b[39m()\u001b[38;5;241m.\u001b[39m\u001b[38;5;21m__init__\u001b[39m()\n\u001b[0;32m    357\u001b[0m \u001b[38;5;28mself\u001b[39m\u001b[38;5;241m.\u001b[39m_name \u001b[38;5;241m=\u001b[39m \u001b[38;5;124m\"\u001b[39m\u001b[38;5;124mMarker\u001b[39m\u001b[38;5;124m\"\u001b[39m\n\u001b[1;32m--> 358\u001b[0m \u001b[38;5;28mself\u001b[39m\u001b[38;5;241m.\u001b[39mlocation \u001b[38;5;241m=\u001b[39m \u001b[43mvalidate_location\u001b[49m\u001b[43m(\u001b[49m\u001b[43mlocation\u001b[49m\u001b[43m)\u001b[49m \u001b[38;5;28;01mif\u001b[39;00m location \u001b[38;5;129;01mis\u001b[39;00m \u001b[38;5;129;01mnot\u001b[39;00m \u001b[38;5;28;01mNone\u001b[39;00m \u001b[38;5;28;01melse\u001b[39;00m \u001b[38;5;28;01mNone\u001b[39;00m\n\u001b[0;32m    359\u001b[0m \u001b[38;5;28mself\u001b[39m\u001b[38;5;241m.\u001b[39moptions \u001b[38;5;241m=\u001b[39m parse_options(\n\u001b[0;32m    360\u001b[0m     draggable\u001b[38;5;241m=\u001b[39mdraggable \u001b[38;5;129;01mor\u001b[39;00m \u001b[38;5;28;01mNone\u001b[39;00m, autoPan\u001b[38;5;241m=\u001b[39mdraggable \u001b[38;5;129;01mor\u001b[39;00m \u001b[38;5;28;01mNone\u001b[39;00m, \u001b[38;5;241m*\u001b[39m\u001b[38;5;241m*\u001b[39mkwargs\n\u001b[0;32m    361\u001b[0m )\n\u001b[0;32m    362\u001b[0m \u001b[38;5;28;01mif\u001b[39;00m icon \u001b[38;5;129;01mis\u001b[39;00m \u001b[38;5;129;01mnot\u001b[39;00m \u001b[38;5;28;01mNone\u001b[39;00m:\n",
      "File \u001b[1;32mc:\\Users\\irsya\\AppData\\Local\\Programs\\Python\\Python312\\Lib\\site-packages\\folium\\utilities.py:96\u001b[0m, in \u001b[0;36mvalidate_location\u001b[1;34m(location)\u001b[0m\n\u001b[0;32m     94\u001b[0m     \u001b[38;5;28mfloat\u001b[39m(coord)\n\u001b[0;32m     95\u001b[0m \u001b[38;5;28;01mexcept\u001b[39;00m (\u001b[38;5;167;01mTypeError\u001b[39;00m, \u001b[38;5;167;01mValueError\u001b[39;00m):\n\u001b[1;32m---> 96\u001b[0m     \u001b[38;5;28;01mraise\u001b[39;00m \u001b[38;5;167;01mValueError\u001b[39;00m(\n\u001b[0;32m     97\u001b[0m         \u001b[38;5;124m\"\u001b[39m\u001b[38;5;124mLocation should consist of two numerical values, \u001b[39m\u001b[38;5;124m\"\u001b[39m\n\u001b[0;32m     98\u001b[0m         \u001b[38;5;124mf\u001b[39m\u001b[38;5;124m\"\u001b[39m\u001b[38;5;124mbut \u001b[39m\u001b[38;5;132;01m{\u001b[39;00mcoord\u001b[38;5;132;01m!r}\u001b[39;00m\u001b[38;5;124m of type \u001b[39m\u001b[38;5;132;01m{\u001b[39;00m\u001b[38;5;28mtype\u001b[39m(coord)\u001b[38;5;132;01m}\u001b[39;00m\u001b[38;5;124m is not convertible to float.\u001b[39m\u001b[38;5;124m\"\u001b[39m\n\u001b[0;32m     99\u001b[0m     )\n\u001b[0;32m    100\u001b[0m \u001b[38;5;28;01mif\u001b[39;00m math\u001b[38;5;241m.\u001b[39misnan(\u001b[38;5;28mfloat\u001b[39m(coord)):\n\u001b[0;32m    101\u001b[0m     \u001b[38;5;28;01mraise\u001b[39;00m \u001b[38;5;167;01mValueError\u001b[39;00m(\u001b[38;5;124m\"\u001b[39m\u001b[38;5;124mLocation values cannot contain NaNs.\u001b[39m\u001b[38;5;124m\"\u001b[39m)\n",
      "\u001b[1;31mValueError\u001b[0m: Location should consist of two numerical values, but ' 107.660193;' of type <class 'str'> is not convertible to float."
     ]
    }
   ],
   "source": [
    "import folium\n",
    "import pandas as pd\n",
    "import geopandas as gpd\n",
    "# Import data\n",
    "%store -r data_sampah\n",
    "%store -r koordinat_BDG\n",
    "\n",
    "filename = '../feature/map/kecBandung.json'\n",
    "bandung = gpd.read_file(filename)\n",
    "# Mengubah kolom tanggal menjadi tipe data datetime\n",
    "data_sampah['tanggal'] = pd.to_datetime(data_sampah['tanggal'], format='%m/%d/%Y')\n",
    "\n",
    "# Membuat kolom baru untuk mengelompokkan kolom tanggal berdasarkan tahun\n",
    "data_sampah['tahun'] = data_sampah['tanggal'].dt.to_period('Y')\n",
    "\n",
    "# Mengelompokkan berdasarkan tahun dan kecamatan, kemudian menghitung jumlah sampah\n",
    "grouped_data = data_sampah.groupby(['tahun', 'kecamatan']).agg({\n",
    "    'jumlah_sampah': 'sum'\n",
    "}).reset_index()\n",
    "\n",
    "# Menggabungkan dengan data koordinat dan data sampah\n",
    "merged_data = pd.merge(grouped_data, koordinat_BDG, on='kecamatan')\n",
    "\n",
    "koordinat_BDG['Lintang Selatan'] = koordinat_BDG['Lintang Selatan'].astype(str)\n",
    "koordinat_BDG['Bujur Timur'] = koordinat_BDG['Bujur Timur'].astype(str)\n",
    "\n",
    "# Membersihkan dan mengonversi kolom 'Lintang Selatan' dan 'Bujur Timur' ke tipe data numerik\n",
    "koordinat_BDG['Lintang Selatan'] = pd.to_numeric(koordinat_BDG['Lintang Selatan'].str.replace(';', '').str.strip(), errors='coerce')\n",
    "koordinat_BDG['Bujur Timur'] = pd.to_numeric(koordinat_BDG['Bujur Timur'].str.replace(';', '').str.strip(), errors='coerce')\n",
    "\n",
    "# Memasukan longitude dan latitud(rata rata supaya berada ditengah)\n",
    "bandung_map = folium.Map(location=[koordinat_BDG['Lintang Selatan'].mean(), koordinat_BDG['Bujur Timur'].mean()], zoom_start=13)\n",
    "for index, row in merged_data.iterrows():\n",
    "    # Menentukan warna marker berdasarkan jumlah sampah\n",
    "    if row['jumlah_sampah'] > 1500:\n",
    "        color = 'red'\n",
    "    elif row['jumlah_sampah'] > 1000:\n",
    "        color = 'orange'\n",
    "    else:\n",
    "        color = 'green'\n",
    "\n",
    "    # Membuat HTML untuk Tooltip\n",
    "    tooltip_html = f\"\"\"\n",
    "    <h4>{row['kecamatan']}</h4>\n",
    "    <h5>Tahun: {row['tahun']}</h5>\n",
    "    <h5>Jumlah Sampah: {row['jumlah_sampah']} Ton</h5>\n",
    "    \"\"\"\n",
    "\n",
    "    # Menambahkan marker untuk setiap baris dengan warna berdasarkan jumlah sampah\n",
    "    marker = folium.Marker(\n",
    "        location=[row['Lintang Selatan'], row['Bujur Timur']],\n",
    "        tooltip=tooltip_html,\n",
    "        icon=folium.Icon(color=color),\n",
    "    )\n",
    "    marker.add_to(bandung_map)\n",
    "\n",
    "\n",
    "bandung_geojson = bandung.to_json()\n",
    "folium.GeoJson(bandung_geojson).add_to(bandung_map)\n",
    "# Menampilkan peta di notebook\n",
    "display(bandung_map)\n",
    "\n",
    "%store bandung_map\n"
   ]
  },
  {
   "cell_type": "code",
   "execution_count": 23,
   "metadata": {},
   "outputs": [
    {
     "data": {
      "application/vnd.jupyter.widget-view+json": {
       "model_id": "af721783c8fe45a59d2e9c54d2d30c38",
       "version_major": 2,
       "version_minor": 0
      },
      "text/plain": [
       "VBox(children=(VBox(children=(HTML(value='<h1 style=\"text-align: center;\">PENDATAAN SAMPAH KECAMATAN DI BANDUN…"
      ]
     },
     "metadata": {},
     "output_type": "display_data"
    }
   ],
   "source": [
    "import ipywidgets as widgets\n",
    "from IPython.display import *\n",
    "\n",
    "%store -r data_sampah\n",
    "%store -r bandung_map\n",
    "%store -r total_sampah_per_tahun\n",
    "%store -r top_5_data_banyak\n",
    "%store -r top_5_data_sedikit\n",
    "%store -r min_penigkatan_sorted\n",
    "%store -r top_5_kecamatan_signifikan\n",
    "%store -r data_jenis_sampah\n",
    "\n",
    "# Title\n",
    "title = widgets.HTML('<h1 style=\"text-align: center;\">PENDATAAN SAMPAH KECAMATAN DI BANDUNG</h1>')\n",
    "button_sampah = widgets.Button(\n",
    "    description='Data Sampah',\n",
    "    disabled=False,\n",
    "    button_style='info',\n",
    "    tooltip='Open the Datasets',\n",
    "    icon='database'\n",
    ")\n",
    "\n",
    "button_bar = widgets.Button(\n",
    "    description='Diagram Sampah',\n",
    "    button_style='warning',\n",
    "    tooltip='Open the Bar',\n",
    "    icon='bar-chart'\n",
    ")\n",
    "\n",
    "button_map = widgets.Button(\n",
    "    description='Lihat Map',\n",
    "    button_style='success',\n",
    "    tooltip='Open the Map',\n",
    "    icon='map'\n",
    ")\n",
    "\n",
    "button_close = widgets.Button(\n",
    "    description='Close',\n",
    "    button_style='danger',\n",
    "    tooltip='Close',\n",
    "    icon='times'\n",
    ")\n",
    "\n",
    "output = widgets.Output(layout={'width': '900px','height':'800px'})\n",
    "\n",
    "def open_sampah(button_sampah):\n",
    "    with output:\n",
    "        clear_output()\n",
    "        tabel_aja = widgets.Output(layout={'width': '100%'})\n",
    "\n",
    "        options = ['Pilih Datasets','Data Sampah di tiap Kecamatan','Jenis Sampah','Total Sampah Tahun 2016 - 2023','5 Kecamatan dengan produksi sampah yang Signifikan','5 Kecamatan dengan peningkatan Sampah yang Minim', '5 Kecamatan dengan Sampah ter Sedikit', '5 Kecamatan dengan Sampah ter Banyak']\n",
    "        dropdown = widgets.Dropdown(options=options, description='Pilih Dataset :', value=options[0])\n",
    "        \n",
    "        event_atas = widgets.VBox([dropdown, button_close], layout=widgets.Layout(display='flex', flex_flow='row', align_items='baseline', justify_content='space-between'))\n",
    "        konten_tabel = widgets.HBox([tabel_aja], layout=widgets.Layout(padding='10px 20px 20px 90px')) \n",
    "\n",
    "        tampil_dataset  = widgets.VBox([event_atas, widgets.HBox([konten_tabel])])\n",
    "\n",
    "        display(tampil_dataset)\n",
    "        with tabel_aja :\n",
    "            judul = widgets.HTML('<h2>Data Sampah di tiap Kecamatan</h2>')\n",
    "            display(judul)\n",
    "            display(data_sampah)\n",
    "        def display_table(change):\n",
    "            with tabel_aja:\n",
    "                clear_output()\n",
    "                selected_option = change['new']\n",
    "                if selected_option == 'Data Sampah di tiap Kecamatan' :\n",
    "                    judul = widgets.HTML('<h2>Data Sampah di tiap Kecamatan</h2>')\n",
    "                    display(judul)\n",
    "                    display(data_sampah)\n",
    "                elif selected_option == 'Total Sampah Tahun 2016 - 2023':\n",
    "                    judul = widgets.HTML('<h2>Total Sampah Tahun 2016 - 2023</h2>')\n",
    "                    display(judul)\n",
    "                    display(total_sampah_per_tahun)\n",
    "                elif selected_option == '5 Kecamatan dengan Sampah ter Banyak':\n",
    "                    judul = widgets.HTML('<h2>5 Kecamatan dengan Sampah ter Banyak</h2>')\n",
    "                    display(judul)\n",
    "                    display(top_5_data_banyak)\n",
    "                elif selected_option == '5 Kecamatan dengan Sampah ter Sedikit':\n",
    "                    judul = widgets.HTML('<h2>5 Kecamatan dengan Sampah ter Sedikit</h2>')\n",
    "                    display(judul)\n",
    "                    display(top_5_data_sedikit)\n",
    "                elif selected_option == '5 Kecamatan dengan peningkatan Sampah yang Minim':\n",
    "                    judul = widgets.HTML('<h2>5 Kecamatan dengan peningkatan Sampah yang Minim</h2>')\n",
    "                    display(judul)\n",
    "                    display(min_penigkatan_sorted)\n",
    "                elif selected_option == '5 Kecamatan dengan produksi sampah yang Signifikan':\n",
    "                    judul = widgets.HTML('<h2>5 Kecamatan dengan produksi sampah yang Signifikan</h2>')\n",
    "                    display(judul)\n",
    "                    display(top_5_kecamatan_signifikan)\n",
    "                elif selected_option == 'Jenis Sampah':\n",
    "                    judul = widgets.HTML('<h2>Jenis Sampah yang ada di Kota Bandung</h2>')\n",
    "                    display(judul)\n",
    "                    display(data_jenis_sampah)\n",
    "        \n",
    "        dropdown.observe(display_table, names='value')\n",
    "\n",
    "def open_bar(button_bar):\n",
    "    with output:\n",
    "        clear_output()\n",
    "        diagram_aja = widgets.Output(layout={'width': '800px'})\n",
    "   \n",
    "\n",
    "        options = ['Pilih Diagram','Jenis Sampah','Jenis Sampah dengan produksi lebih dari 5000','Total Sampah Tahun 2016 - 2023','5 Kecamatan dengan produksi sampah yang Signifikan', '5 Kecamatan dengan Sampah ter Sedikit', '5 Kecamatan dengan Sampah ter Banyak']\n",
    "        dropdown = widgets.Dropdown(options=options, description='Pilih Diagram :', value=options[0])\n",
    "\n",
    "        event_atas = widgets.VBox([dropdown, button_close], layout=widgets.Layout(display='flex', flex_flow='row', align_items='baseline', justify_content='space-between'))\n",
    "        konten_diagram = widgets.HBox([diagram_aja], layout=widgets.Layout(padding='10px 20px 20px 0'))\n",
    "\n",
    "        tampil_dataset  = widgets.VBox([event_atas, widgets.HBox([konten_diagram])])\n",
    "        display(tampil_dataset)\n",
    "        with diagram_aja:\n",
    "            display(Image(filename='../images/chart.png'))\n",
    "\n",
    "        def display_table(change):\n",
    "            with diagram_aja:\n",
    "                clear_output(wait=True)  # Clear the output and wait for new content\n",
    "                selected_option = change['new']\n",
    "                if selected_option == 'Total Sampah Tahun 2016 - 2023':\n",
    "                    display(Image(filename='../images/data_sampah_pertahun.png', width=912, height=530))\n",
    "                elif selected_option == '5 Kecamatan dengan Sampah ter Banyak':\n",
    "                    display(Image(filename='../images/top-5-banyak.png',width=646, height=420))\n",
    "                elif selected_option == '5 Kecamatan dengan Sampah ter Sedikit':\n",
    "                    display(Image(filename='../images/top-5-sedikit.png',width=646, height=420))\n",
    "                elif selected_option == '5 Kecamatan dengan produksi sampah yang Signifikan':\n",
    "                    display(Image(filename='../images/top-5-signifikan.png',width=773, height=420))\n",
    "                elif selected_option == 'Jenis Sampah':\n",
    "                    display(Image(filename='../images/jenis_sampah_chart.png',width=618, height=541))\n",
    "                elif selected_option == 'Jenis Sampah dengan produksi lebih dari 5000':\n",
    "                    display(Image(filename='../images/jenis_sampah_5000.png',width=682, height=443))\n",
    "\n",
    "        dropdown.observe(display_table, names='value')\n",
    "    \n",
    "def open_map(button_map):\n",
    "    with output:\n",
    "        clear_output()\n",
    "        display(button_close, bandung_map)\n",
    "\n",
    "\n",
    "def close(button_close):\n",
    "    with output:\n",
    "        clear_output()\n",
    "\n",
    "button_map.on_click(open_map)\n",
    "button_bar.on_click(open_bar)\n",
    "button_sampah.on_click(open_sampah)\n",
    "button_close.on_click(close)\n",
    "\n",
    "# Layout for the title\n",
    "title_box = widgets.VBox([title],layout=widgets.Layout(margin='20px 0 40px 0'))\n",
    "\n",
    "# Sidebar layout\n",
    "sidebar = widgets.VBox([button_sampah, button_bar,button_map])\n",
    "\n",
    "# Content layout with margin\n",
    "content = widgets.HBox([output], layout=widgets.Layout(margin='0 0 0 20px'))  # Adjust the margin values as needed\n",
    "\n",
    "# Main layout\n",
    "main_layout = widgets.VBox([title_box, widgets.HBox([sidebar, content])])\n",
    "\n",
    "# Display the layouts\n",
    "display(main_layout)\n"
   ]
  }
 ],
 "metadata": {
  "kernelspec": {
   "display_name": "Python 3",
   "language": "python",
   "name": "python3"
  },
  "language_info": {
   "codemirror_mode": {
    "name": "ipython",
    "version": 3
   },
   "file_extension": ".py",
   "mimetype": "text/x-python",
   "name": "python",
   "nbconvert_exporter": "python",
   "pygments_lexer": "ipython3",
   "version": "3.12.0"
  }
 },
 "nbformat": 4,
 "nbformat_minor": 2
}
