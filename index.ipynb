{
 "cells": [
  {
   "cell_type": "code",
   "execution_count": 5,
   "metadata": {},
   "outputs": [
    {
     "data": {
      "application/vnd.jupyter.widget-view+json": {
       "model_id": "745b7f45c39a43e8b4069050693c045e",
       "version_major": 2,
       "version_minor": 0
      },
      "text/plain": [
       "VBox(children=(VBox(children=(HTML(value='<h1 style=\"text-align: center;\">PENDATAAN SAMPAH KECAMATAN DI BANDUN…"
      ]
     },
     "metadata": {},
     "output_type": "display_data"
    }
   ],
   "source": [
    "import ipywidgets as widgets\n",
    "from IPython.display import *\n",
    "\n",
    "%store -r data_sampah\n",
    "%store -r bandung_map\n",
    "\n",
    "# Title\n",
    "title = widgets.HTML('<h1 style=\"text-align: center;\">PENDATAAN SAMPAH KECAMATAN DI BANDUNG</h1>')\n",
    "\n",
    "button_sampah = widgets.Button(\n",
    "    description='Open Datasets',\n",
    "    disabled=False,\n",
    "    button_style='info',\n",
    "    tooltip='Open the Datasets',\n",
    "    icon='database'\n",
    ")\n",
    "\n",
    "button_map = widgets.Button(\n",
    "    description='Open Map',\n",
    "    button_style='success',\n",
    "    tooltip='Open the Map',\n",
    "    icon='map'\n",
    ")\n",
    "\n",
    "button_bar = widgets.Button(\n",
    "    description='Open Bar',\n",
    "    button_style='warning',\n",
    "    tooltip='Open the Bar',\n",
    "    icon='bar-chart'\n",
    ")\n",
    "\n",
    "button_close = widgets.Button(\n",
    "    description='Close',\n",
    "    button_style='danger',\n",
    "    tooltip='Close',\n",
    "    icon='times'\n",
    ")\n",
    "\n",
    "output = widgets.Output(layout={'width': '1500px', 'height': '1000px'})\n",
    "\n",
    "def open_map(button_map):\n",
    "    with output:\n",
    "        clear_output()\n",
    "        display(button_close, bandung_map)\n",
    "\n",
    "def open_bar(button_bar):\n",
    "    with output:\n",
    "        clear_output()\n",
    "        display(button_close)\n",
    "        # Load and display the saved image from the 'images' directory\n",
    "        display(Image(filename='./images/chart.png'))\n",
    "\n",
    "def open_sampah(button_sampah):\n",
    "    with output:\n",
    "        clear_output()\n",
    "        display(button_close, data_sampah)\n",
    "\n",
    "def close(button_close):\n",
    "    with output:\n",
    "        clear_output()\n",
    "\n",
    "button_map.on_click(open_map)\n",
    "button_bar.on_click(open_bar)\n",
    "button_sampah.on_click(open_sampah)\n",
    "button_close.on_click(close)\n",
    "\n",
    "# Layout for the title\n",
    "title_box = widgets.VBox([title])\n",
    "\n",
    "# Sidebar layout\n",
    "sidebar = widgets.VBox([button_map, button_bar, button_sampah])\n",
    "\n",
    "# Content layout with margin\n",
    "content = widgets.HBox([output], layout=widgets.Layout(margin='0 0 0 20px'))  # Adjust the margin values as needed\n",
    "\n",
    "# Main layout\n",
    "main_layout = widgets.VBox([title_box, widgets.HBox([sidebar, content])])\n",
    "\n",
    "# Display the layouts\n",
    "display(main_layout)\n"
   ]
  }
 ],
 "metadata": {
  "kernelspec": {
   "display_name": "Python 3",
   "language": "python",
   "name": "python3"
  },
  "language_info": {
   "codemirror_mode": {
    "name": "ipython",
    "version": 3
   },
   "file_extension": ".py",
   "mimetype": "text/x-python",
   "name": "python",
   "nbconvert_exporter": "python",
   "pygments_lexer": "ipython3",
   "version": "3.12.0"
  }
 },
 "nbformat": 4,
 "nbformat_minor": 2
}
