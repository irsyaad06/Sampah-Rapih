{
 "cells": [
  {
   "cell_type": "code",
   "execution_count": 4,
   "metadata": {},
   "outputs": [
    {
     "data": {
      "application/vnd.jupyter.widget-view+json": {
       "model_id": "4b1a1964c3d74cac81a73084c15be020",
       "version_major": 2,
       "version_minor": 0
      },
      "text/plain": [
       "HBox(children=(Button(button_style='success', description='Open Map', icon='map', style=ButtonStyle(), tooltip…"
      ]
     },
     "metadata": {},
     "output_type": "display_data"
    },
    {
     "data": {
      "application/vnd.jupyter.widget-view+json": {
       "model_id": "b579b0ac6f2047c6a3d979f77e693086",
       "version_major": 2,
       "version_minor": 0
      },
      "text/plain": [
       "Output()"
      ]
     },
     "metadata": {},
     "output_type": "display_data"
    }
   ],
   "source": [
    "import ipywidgets as widgets\n",
    "from IPython.display import *\n",
    "\n",
    "%store -r data_sampah\n",
    "%store -r bandung_map\n",
    "\n",
    "# display(HTML('<style>.widget-button { border-radius: 40px; }</style>'))\n",
    "\n",
    "button_sampah = widgets.Button(\n",
    "    description='Open Datasets',\n",
    "    disabled=False,\n",
    "    button_style='info',\n",
    "    tooltip='Open the Datasets',\n",
    "    icon='database'\n",
    ")\n",
    "\n",
    "button_map = widgets.Button(\n",
    "    description='Open Map',\n",
    "    button_style='success',\n",
    "    tooltip='Open the Map',\n",
    "    icon='map'\n",
    ")\n",
    "\n",
    "button_bar = widgets.Button(\n",
    "    description='Open Bar',\n",
    "    button_style='warning',\n",
    "    tooltip='Open the Bar',\n",
    "    icon='bar-chart'\n",
    ")\n",
    "\n",
    "button_close = widgets.Button(\n",
    "    description='Close',\n",
    "    button_style='danger',\n",
    "    tooltip='Close',\n",
    "    icon='times'\n",
    ")\n",
    "\n",
    "output = widgets.Output()\n",
    "\n",
    "def open_map(button_map):\n",
    "    with output:\n",
    "            clear_output()\n",
    "            display(button_close,bandung_map)\n",
    "\n",
    "def open_bar(button_bar):\n",
    "    with output:\n",
    "            clear_output()\n",
    "            display(button_close)\n",
    "            # Load and display the saved image from the 'images' directory\n",
    "            display(Image(filename='./images/iyah.png',width=2500,height=2000))\n",
    "\n",
    "\n",
    "def open_sampah(button_sampah):\n",
    "    with output:\n",
    "            clear_output()\n",
    "            display(button_close,data_sampah)\n",
    "\n",
    "def close(button_close):\n",
    "    with output:\n",
    "        clear_output()\n",
    "\n",
    "\n",
    "button_map.on_click(open_map)\n",
    "button_bar.on_click(open_bar)\n",
    "button_sampah.on_click(open_sampah)\n",
    "button_close.on_click(close)\n",
    "\n",
    "display(widgets.HBox([button_map, button_bar, button_sampah]))\n",
    "display(output)"
   ]
  }
 ],
 "metadata": {
  "kernelspec": {
   "display_name": "Python 3",
   "language": "python",
   "name": "python3"
  },
  "language_info": {
   "codemirror_mode": {
    "name": "ipython",
    "version": 3
   },
   "file_extension": ".py",
   "mimetype": "text/x-python",
   "name": "python",
   "nbconvert_exporter": "python",
   "pygments_lexer": "ipython3",
   "version": "3.12.0"
  }
 },
 "nbformat": 4,
 "nbformat_minor": 2
}
